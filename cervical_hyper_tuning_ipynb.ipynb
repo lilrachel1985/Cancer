{
  "cells": [
    {
      "cell_type": "code",
      "execution_count": null,
      "metadata": {
        "id": "nN4qdPItGQer"
      },
      "outputs": [],
      "source": [
        "#importing modules\n",
        "import numpy as np\n",
        "import pandas as pd\n",
        "\n",
        "#loading datasets\n",
        "data = pd.read_csv('cervical_cancer2.csv')\n"
      ]
    },
    {
      "cell_type": "code",
      "execution_count": null,
      "metadata": {
        "id": "E2u5mwcUGQe0",
        "outputId": "e5d4f715-a26b-423e-f769-1f97e17b0ec1"
      },
      "outputs": [
        {
          "data": {
            "text/html": [
              "<div>\n",
              "<style scoped>\n",
              "    .dataframe tbody tr th:only-of-type {\n",
              "        vertical-align: middle;\n",
              "    }\n",
              "\n",
              "    .dataframe tbody tr th {\n",
              "        vertical-align: top;\n",
              "    }\n",
              "\n",
              "    .dataframe thead th {\n",
              "        text-align: right;\n",
              "    }\n",
              "</style>\n",
              "<table border=\"1\" class=\"dataframe\">\n",
              "  <thead>\n",
              "    <tr style=\"text-align: right;\">\n",
              "      <th></th>\n",
              "      <th>Age</th>\n",
              "      <th>Number of sexual partners</th>\n",
              "      <th>First sexual intercourse</th>\n",
              "      <th>Num of pregnancies</th>\n",
              "      <th>Smokes</th>\n",
              "      <th>Smokes (years)</th>\n",
              "      <th>Smokes (packs/year)</th>\n",
              "      <th>Hormonal Contraceptives</th>\n",
              "      <th>Hormonal Contraceptives (years)</th>\n",
              "      <th>IUD</th>\n",
              "      <th>...</th>\n",
              "      <th>STDs: Time since first diagnosis</th>\n",
              "      <th>STDs: Time since last diagnosis</th>\n",
              "      <th>Dx:Cancer</th>\n",
              "      <th>Dx:CIN</th>\n",
              "      <th>Dx:HPV</th>\n",
              "      <th>Dx</th>\n",
              "      <th>Hinselmann</th>\n",
              "      <th>Schiller</th>\n",
              "      <th>Citology</th>\n",
              "      <th>Biopsy</th>\n",
              "    </tr>\n",
              "  </thead>\n",
              "  <tbody>\n",
              "    <tr>\n",
              "      <th>0</th>\n",
              "      <td>18</td>\n",
              "      <td>4</td>\n",
              "      <td>15</td>\n",
              "      <td>1</td>\n",
              "      <td>0</td>\n",
              "      <td>0.0</td>\n",
              "      <td>0.0</td>\n",
              "      <td>0</td>\n",
              "      <td>0.0</td>\n",
              "      <td>0</td>\n",
              "      <td>...</td>\n",
              "      <td>0</td>\n",
              "      <td>0</td>\n",
              "      <td>0</td>\n",
              "      <td>0</td>\n",
              "      <td>0</td>\n",
              "      <td>0</td>\n",
              "      <td>0</td>\n",
              "      <td>0</td>\n",
              "      <td>0</td>\n",
              "      <td>0</td>\n",
              "    </tr>\n",
              "    <tr>\n",
              "      <th>1</th>\n",
              "      <td>15</td>\n",
              "      <td>1</td>\n",
              "      <td>14</td>\n",
              "      <td>1</td>\n",
              "      <td>0</td>\n",
              "      <td>0.0</td>\n",
              "      <td>0.0</td>\n",
              "      <td>0</td>\n",
              "      <td>0.0</td>\n",
              "      <td>0</td>\n",
              "      <td>...</td>\n",
              "      <td>0</td>\n",
              "      <td>0</td>\n",
              "      <td>0</td>\n",
              "      <td>0</td>\n",
              "      <td>0</td>\n",
              "      <td>0</td>\n",
              "      <td>0</td>\n",
              "      <td>0</td>\n",
              "      <td>0</td>\n",
              "      <td>0</td>\n",
              "    </tr>\n",
              "    <tr>\n",
              "      <th>2</th>\n",
              "      <td>34</td>\n",
              "      <td>1</td>\n",
              "      <td>0</td>\n",
              "      <td>1</td>\n",
              "      <td>0</td>\n",
              "      <td>0.0</td>\n",
              "      <td>0.0</td>\n",
              "      <td>0</td>\n",
              "      <td>0.0</td>\n",
              "      <td>0</td>\n",
              "      <td>...</td>\n",
              "      <td>0</td>\n",
              "      <td>0</td>\n",
              "      <td>0</td>\n",
              "      <td>0</td>\n",
              "      <td>0</td>\n",
              "      <td>0</td>\n",
              "      <td>0</td>\n",
              "      <td>0</td>\n",
              "      <td>0</td>\n",
              "      <td>0</td>\n",
              "    </tr>\n",
              "    <tr>\n",
              "      <th>3</th>\n",
              "      <td>52</td>\n",
              "      <td>5</td>\n",
              "      <td>16</td>\n",
              "      <td>4</td>\n",
              "      <td>1</td>\n",
              "      <td>37.0</td>\n",
              "      <td>37.0</td>\n",
              "      <td>1</td>\n",
              "      <td>3.0</td>\n",
              "      <td>0</td>\n",
              "      <td>...</td>\n",
              "      <td>0</td>\n",
              "      <td>0</td>\n",
              "      <td>1</td>\n",
              "      <td>0</td>\n",
              "      <td>1</td>\n",
              "      <td>0</td>\n",
              "      <td>0</td>\n",
              "      <td>0</td>\n",
              "      <td>0</td>\n",
              "      <td>0</td>\n",
              "    </tr>\n",
              "    <tr>\n",
              "      <th>4</th>\n",
              "      <td>46</td>\n",
              "      <td>3</td>\n",
              "      <td>21</td>\n",
              "      <td>4</td>\n",
              "      <td>0</td>\n",
              "      <td>0.0</td>\n",
              "      <td>0.0</td>\n",
              "      <td>1</td>\n",
              "      <td>15.0</td>\n",
              "      <td>0</td>\n",
              "      <td>...</td>\n",
              "      <td>0</td>\n",
              "      <td>0</td>\n",
              "      <td>0</td>\n",
              "      <td>0</td>\n",
              "      <td>0</td>\n",
              "      <td>0</td>\n",
              "      <td>0</td>\n",
              "      <td>0</td>\n",
              "      <td>0</td>\n",
              "      <td>0</td>\n",
              "    </tr>\n",
              "  </tbody>\n",
              "</table>\n",
              "<p>5 rows × 36 columns</p>\n",
              "</div>"
            ],
            "text/plain": [
              "   Age  Number of sexual partners  First sexual intercourse  \\\n",
              "0   18                          4                        15   \n",
              "1   15                          1                        14   \n",
              "2   34                          1                         0   \n",
              "3   52                          5                        16   \n",
              "4   46                          3                        21   \n",
              "\n",
              "   Num of pregnancies  Smokes  Smokes (years)  Smokes (packs/year)  \\\n",
              "0                   1       0             0.0                  0.0   \n",
              "1                   1       0             0.0                  0.0   \n",
              "2                   1       0             0.0                  0.0   \n",
              "3                   4       1            37.0                 37.0   \n",
              "4                   4       0             0.0                  0.0   \n",
              "\n",
              "   Hormonal Contraceptives  Hormonal Contraceptives (years)  IUD  ...  \\\n",
              "0                        0                              0.0    0  ...   \n",
              "1                        0                              0.0    0  ...   \n",
              "2                        0                              0.0    0  ...   \n",
              "3                        1                              3.0    0  ...   \n",
              "4                        1                             15.0    0  ...   \n",
              "\n",
              "   STDs: Time since first diagnosis  STDs: Time since last diagnosis  \\\n",
              "0                                 0                                0   \n",
              "1                                 0                                0   \n",
              "2                                 0                                0   \n",
              "3                                 0                                0   \n",
              "4                                 0                                0   \n",
              "\n",
              "   Dx:Cancer  Dx:CIN  Dx:HPV  Dx  Hinselmann  Schiller  Citology  Biopsy  \n",
              "0          0       0       0   0           0         0         0       0  \n",
              "1          0       0       0   0           0         0         0       0  \n",
              "2          0       0       0   0           0         0         0       0  \n",
              "3          1       0       1   0           0         0         0       0  \n",
              "4          0       0       0   0           0         0         0       0  \n",
              "\n",
              "[5 rows x 36 columns]"
            ]
          },
          "execution_count": 3,
          "metadata": {},
          "output_type": "execute_result"
        }
      ],
      "source": [
        "#the fist 5 rows\n",
        "data.head(5)"
      ]
    },
    {
      "cell_type": "code",
      "execution_count": null,
      "metadata": {
        "id": "uZkdtNcDGQe2",
        "outputId": "b08300c4-385f-4219-afa3-cf6d7361fad0"
      },
      "outputs": [
        {
          "name": "stdout",
          "output_type": "stream",
          "text": [
            "<class 'pandas.core.frame.DataFrame'>\n",
            "RangeIndex: 858 entries, 0 to 857\n",
            "Data columns (total 36 columns):\n",
            "Age                                   858 non-null int64\n",
            "Number of sexual partners             858 non-null int64\n",
            "First sexual intercourse              858 non-null int64\n",
            "Num of pregnancies                    858 non-null int64\n",
            "Smokes                                858 non-null int64\n",
            "Smokes (years)                        858 non-null float64\n",
            "Smokes (packs/year)                   858 non-null float64\n",
            "Hormonal Contraceptives               858 non-null int64\n",
            "Hormonal Contraceptives (years)       858 non-null float64\n",
            "IUD                                   858 non-null int64\n",
            "IUD (years)                           858 non-null float64\n",
            "STDs                                  858 non-null int64\n",
            "STDs (number)                         858 non-null int64\n",
            "STDs:condylomatosis                   858 non-null int64\n",
            "STDs:cervical condylomatosis          858 non-null int64\n",
            "STDs:vaginal condylomatosis           858 non-null int64\n",
            "STDs:vulvo-perineal condylomatosis    858 non-null int64\n",
            "STDs:syphilis                         858 non-null int64\n",
            "STDs:pelvic inflammatory disease      858 non-null int64\n",
            "STDs:genital herpes                   858 non-null int64\n",
            "STDs:molluscum contagiosum            858 non-null int64\n",
            "STDs:AIDS                             858 non-null int64\n",
            "STDs:HIV                              858 non-null int64\n",
            "STDs:Hepatitis B                      858 non-null int64\n",
            "STDs:HPV                              858 non-null int64\n",
            "STDs: Number of diagnosis             858 non-null int64\n",
            "STDs: Time since first diagnosis      858 non-null int64\n",
            "STDs: Time since last diagnosis       858 non-null int64\n",
            "Dx:Cancer                             858 non-null int64\n",
            "Dx:CIN                                858 non-null int64\n",
            "Dx:HPV                                858 non-null int64\n",
            "Dx                                    858 non-null int64\n",
            "Hinselmann                            858 non-null int64\n",
            "Schiller                              858 non-null int64\n",
            "Citology                              858 non-null int64\n",
            "Biopsy                                858 non-null int64\n",
            "dtypes: float64(4), int64(32)\n",
            "memory usage: 241.4 KB\n"
          ]
        }
      ],
      "source": [
        "#the result\n",
        "data.info()"
      ]
    },
    {
      "cell_type": "code",
      "execution_count": null,
      "metadata": {
        "id": "LHmdj6J2GQe3",
        "outputId": "ac6c1b33-1655-47c7-ee0f-256886da804f"
      },
      "outputs": [
        {
          "data": {
            "text/plain": [
              "0    803\n",
              "1     55\n",
              "Name: Biopsy, dtype: int64"
            ]
          },
          "execution_count": 5,
          "metadata": {},
          "output_type": "execute_result"
        }
      ],
      "source": [
        "#counting the diagnosis variable\n",
        "data.Biopsy.value_counts()"
      ]
    },
    {
      "cell_type": "code",
      "execution_count": null,
      "metadata": {
        "id": "YLnTh7L0GQe4"
      },
      "outputs": [],
      "source": [
        "#finished the dataset preprocessing\n",
        "#splitting dataset into training one and testing one\n",
        "from sklearn.model_selection import train_test_split\n",
        "train, test = train_test_split(data, test_size = 0.3,random_state=1234)"
      ]
    },
    {
      "cell_type": "code",
      "execution_count": null,
      "metadata": {
        "id": "Vx3Kf42dGQe5",
        "outputId": "02eb6471-2328-4e1a-fc80-de06305c7ec8"
      },
      "outputs": [
        {
          "name": "stdout",
          "output_type": "stream",
          "text": [
            "(600, 36)\n",
            "(258, 36)\n"
          ]
        }
      ],
      "source": [
        "#finished the dataset preprocessing\n",
        "#splitting dataset into training one and testing one\n",
        "from sklearn.model_selection import train_test_split\n",
        "train, test = train_test_split(data, test_size = 0.3,random_state=1234)\n",
        "\n",
        "#finding out the results\n",
        "print(train.shape)\n",
        "print(test.shape)\n"
      ]
    },
    {
      "cell_type": "code",
      "execution_count": null,
      "metadata": {
        "id": "ADBToeejGQe6"
      },
      "outputs": [],
      "source": [
        "#making independent variables for training\n",
        "X_train = train.iloc[:, 1:36]\n",
        "#making responsible variables for training\n",
        "y_train=train.Biopsy\n",
        "#making independent variables for testing\n",
        "X_test= test.iloc[:, 1:36]\n",
        "#making responsible variables for testing\n",
        "y_test =test.Biopsy\n"
      ]
    },
    {
      "cell_type": "code",
      "execution_count": null,
      "metadata": {
        "id": "yuUiEZV2GQe9",
        "outputId": "4bd9a224-775b-4309-8901-c11e2df14ea1"
      },
      "outputs": [
        {
          "name": "stdout",
          "output_type": "stream",
          "text": [
            "(600, 35)\n",
            "(600,)\n",
            "(258, 35)\n",
            "(258,)\n"
          ]
        }
      ],
      "source": [
        "#finding out the results\n",
        "print(X_train.shape)\n",
        "print(y_train.shape)\n",
        "print(X_test.shape)\n",
        "print(y_test.shape)\n"
      ]
    },
    {
      "cell_type": "code",
      "execution_count": null,
      "metadata": {
        "id": "xMYzFB-wGQe-",
        "outputId": "49fcd045-774a-423e-d570-774e1babfd97"
      },
      "outputs": [
        {
          "name": "stderr",
          "output_type": "stream",
          "text": [
            "/home/rachel/anaconda3/lib/python3.7/site-packages/sklearn/model_selection/_split.py:2053: FutureWarning: You should specify a value for 'cv' instead of relying on the default value. The default value will change from 3 to 5 in version 0.22.\n",
            "  warnings.warn(CV_WARNING, FutureWarning)\n"
          ]
        },
        {
          "name": "stdout",
          "output_type": "stream",
          "text": [
            "Best Hyper Parameters: {'criterion': 'entropy', 'max_features': 'auto', 'min_samples_leaf': 1, 'min_samples_split': 8, 'random_state': 123, 'splitter': 'best'}\n",
            "Accuracy: 0.9883720930232558\n",
            "Confusion Metrix:\n",
            " [[236   0]\n",
            " [  3  19]]\n",
            "              precision    recall  f1-score   support\n",
            "\n",
            "           0       1.00      0.99      0.99       239\n",
            "           1       0.86      1.00      0.93        19\n",
            "\n",
            "   micro avg       0.99      0.99      0.99       258\n",
            "   macro avg       0.93      0.99      0.96       258\n",
            "weighted avg       0.99      0.99      0.99       258\n",
            "\n"
          ]
        }
      ],
      "source": [
        "#With Hyper Parameters Tuning\n",
        "#2-1,DesicionTree\n",
        "#importing modules\n",
        "from sklearn.model_selection import GridSearchCV\n",
        "from sklearn.tree import DecisionTreeClassifier\n",
        "#making the instance\n",
        "model= DecisionTreeClassifier(random_state=1234)\n",
        "#Hyper Parameters Set\n",
        "params = {'criterion': ['gini','entropy'],'splitter': ['best', 'random'],'max_features': ['auto', 'sqrt', 'log2'],\n",
        "          'min_samples_split': [2,3,4,5,6,7,8,9,10,11,12,13,14,15],\n",
        "          'min_samples_leaf':[1,2,3,4,5,6,7,8,9,10,11],\n",
        "          'random_state':[123]}\n",
        "#Making models with hyper parameters sets\n",
        "model1 = GridSearchCV(model, param_grid=params, n_jobs=-1)\n",
        "#Learning\n",
        "model1.fit(X_train,y_train)\n",
        "#The best hyper parameters set\n",
        "print(\"Best Hyper Parameters:\",model1.best_params_)\n",
        "#Prediction\n",
        "prediction=model1.predict(X_test)\n",
        "#importing the metrics module\n",
        "from sklearn import metrics\n",
        "#evaluation(Accuracy)\n",
        "print(\"Accuracy:\",metrics.accuracy_score(prediction,y_test))\n",
        "#evaluation(Confusion Metrix)\n",
        "print(\"Confusion Metrix:\\n\",metrics.confusion_matrix(prediction,y_test))\n",
        "from sklearn.metrics import classification_report\n",
        "print(classification_report(y_test, prediction))"
      ]
    },
    {
      "cell_type": "code",
      "execution_count": null,
      "metadata": {
        "id": "uSuCoSG2GQfC"
      },
      "outputs": [],
      "source": [
        "from sklearn.model_selection import cross_val_score\n",
        "from sklearn.model_selection import cross_validate\n",
        "\n",
        "decision_tree = DecisionTreeClassifier()\n",
        "\n",
        "scoring = ['accuracy', 'precision_macro', 'recall_macro' , 'f1_weighted', 'roc_auc']\n",
        "scores = cross_validate(decision_tree, X_train, y_train, scoring=scoring, cv=20)\n",
        "\n",
        "sorted(scores.keys())\n",
        "dtree_fit_time = scores['fit_time'].mean()\n",
        "dtree_score_time = scores['score_time'].mean()\n",
        "dtree_accuracy = scores['test_accuracy'].mean()\n",
        "dtree_precision = scores['test_precision_macro'].mean()\n",
        "dtree_recall = scores['test_recall_macro'].mean()\n",
        "dtree_f1 = scores['test_f1_weighted'].mean()\n",
        "dtree_roc = scores['test_roc_auc'].mean()"
      ]
    },
    {
      "cell_type": "code",
      "execution_count": null,
      "metadata": {
        "id": "AGGVrKrvGQfE",
        "outputId": "15a86970-7035-4028-c202-5440bd37e49a"
      },
      "outputs": [
        {
          "name": "stderr",
          "output_type": "stream",
          "text": [
            "/home/rachel/anaconda3/lib/python3.7/site-packages/sklearn/model_selection/_split.py:2053: FutureWarning: You should specify a value for 'cv' instead of relying on the default value. The default value will change from 3 to 5 in version 0.22.\n",
            "  warnings.warn(CV_WARNING, FutureWarning)\n"
          ]
        },
        {
          "name": "stdout",
          "output_type": "stream",
          "text": [
            "Best Hyper Parameters:\n",
            " {'criterion': 'entropy', 'min_samples_leaf': 1, 'min_samples_split': 7, 'n_estimators': 10, 'n_jobs': -1, 'random_state': 123}\n",
            "Accuracy: 1.0\n",
            "Confusion Metrix:\n",
            " [[239   0]\n",
            " [  0  19]]\n",
            "              precision    recall  f1-score   support\n",
            "\n",
            "           0       1.00      1.00      1.00       239\n",
            "           1       1.00      1.00      1.00        19\n",
            "\n",
            "   micro avg       1.00      1.00      1.00       258\n",
            "   macro avg       1.00      1.00      1.00       258\n",
            "weighted avg       1.00      1.00      1.00       258\n",
            "\n"
          ]
        }
      ],
      "source": [
        "#With Hyper Parameters Tuning\n",
        "#2-2,Randomforest\n",
        "#importing modules\n",
        "from sklearn.model_selection import GridSearchCV\n",
        "from sklearn.ensemble import RandomForestClassifier\n",
        "#making the instance\n",
        "model=RandomForestClassifier()\n",
        "#hyper parameters set\n",
        "params = {'criterion':['gini','entropy'],\n",
        "          'n_estimators':[10,15,20,25,30],\n",
        "          'min_samples_leaf':[1,2,3],\n",
        "          'min_samples_split':[3,4,5,6,7],\n",
        "          'random_state':[123],\n",
        "          'n_jobs':[-1]}\n",
        "#Making models with hyper parameters sets\n",
        "model1 = GridSearchCV(model, param_grid=params, n_jobs=-1)\n",
        "#learning\n",
        "model1.fit(X_train,y_train)\n",
        "#The best hyper parameters set\n",
        "print(\"Best Hyper Parameters:\\n\",model1.best_params_)\n",
        "#Prediction\n",
        "prediction=model1.predict(X_test)\n",
        "#importing the metrics module\n",
        "from sklearn import metrics\n",
        "#evaluation(Accuracy)\n",
        "print(\"Accuracy:\",metrics.accuracy_score(prediction,y_test))\n",
        "#evaluation(Confusion Metrix)\n",
        "print(\"Confusion Metrix:\\n\",metrics.confusion_matrix(prediction,y_test))\n",
        "from sklearn.metrics import classification_report\n",
        "print(classification_report(y_test, prediction))"
      ]
    },
    {
      "cell_type": "code",
      "execution_count": null,
      "metadata": {
        "id": "3yDVsg-NGQfF",
        "outputId": "b9080e57-dbd9-4a0a-8153-91850f004950"
      },
      "outputs": [
        {
          "name": "stderr",
          "output_type": "stream",
          "text": [
            "/home/rachel/anaconda3/lib/python3.7/site-packages/sklearn/ensemble/forest.py:246: FutureWarning: The default value of n_estimators will change from 10 in version 0.20 to 100 in 0.22.\n",
            "  \"10 in version 0.20 to 100 in 0.22.\", FutureWarning)\n",
            "/home/rachel/anaconda3/lib/python3.7/site-packages/sklearn/ensemble/forest.py:246: FutureWarning: The default value of n_estimators will change from 10 in version 0.20 to 100 in 0.22.\n",
            "  \"10 in version 0.20 to 100 in 0.22.\", FutureWarning)\n",
            "/home/rachel/anaconda3/lib/python3.7/site-packages/sklearn/ensemble/forest.py:246: FutureWarning: The default value of n_estimators will change from 10 in version 0.20 to 100 in 0.22.\n",
            "  \"10 in version 0.20 to 100 in 0.22.\", FutureWarning)\n",
            "/home/rachel/anaconda3/lib/python3.7/site-packages/sklearn/ensemble/forest.py:246: FutureWarning: The default value of n_estimators will change from 10 in version 0.20 to 100 in 0.22.\n",
            "  \"10 in version 0.20 to 100 in 0.22.\", FutureWarning)\n",
            "/home/rachel/anaconda3/lib/python3.7/site-packages/sklearn/ensemble/forest.py:246: FutureWarning: The default value of n_estimators will change from 10 in version 0.20 to 100 in 0.22.\n",
            "  \"10 in version 0.20 to 100 in 0.22.\", FutureWarning)\n",
            "/home/rachel/anaconda3/lib/python3.7/site-packages/sklearn/ensemble/forest.py:246: FutureWarning: The default value of n_estimators will change from 10 in version 0.20 to 100 in 0.22.\n",
            "  \"10 in version 0.20 to 100 in 0.22.\", FutureWarning)\n",
            "/home/rachel/anaconda3/lib/python3.7/site-packages/sklearn/ensemble/forest.py:246: FutureWarning: The default value of n_estimators will change from 10 in version 0.20 to 100 in 0.22.\n",
            "  \"10 in version 0.20 to 100 in 0.22.\", FutureWarning)\n",
            "/home/rachel/anaconda3/lib/python3.7/site-packages/sklearn/ensemble/forest.py:246: FutureWarning: The default value of n_estimators will change from 10 in version 0.20 to 100 in 0.22.\n",
            "  \"10 in version 0.20 to 100 in 0.22.\", FutureWarning)\n",
            "/home/rachel/anaconda3/lib/python3.7/site-packages/sklearn/ensemble/forest.py:246: FutureWarning: The default value of n_estimators will change from 10 in version 0.20 to 100 in 0.22.\n",
            "  \"10 in version 0.20 to 100 in 0.22.\", FutureWarning)\n",
            "/home/rachel/anaconda3/lib/python3.7/site-packages/sklearn/ensemble/forest.py:246: FutureWarning: The default value of n_estimators will change from 10 in version 0.20 to 100 in 0.22.\n",
            "  \"10 in version 0.20 to 100 in 0.22.\", FutureWarning)\n",
            "/home/rachel/anaconda3/lib/python3.7/site-packages/sklearn/ensemble/forest.py:246: FutureWarning: The default value of n_estimators will change from 10 in version 0.20 to 100 in 0.22.\n",
            "  \"10 in version 0.20 to 100 in 0.22.\", FutureWarning)\n",
            "/home/rachel/anaconda3/lib/python3.7/site-packages/sklearn/ensemble/forest.py:246: FutureWarning: The default value of n_estimators will change from 10 in version 0.20 to 100 in 0.22.\n",
            "  \"10 in version 0.20 to 100 in 0.22.\", FutureWarning)\n",
            "/home/rachel/anaconda3/lib/python3.7/site-packages/sklearn/ensemble/forest.py:246: FutureWarning: The default value of n_estimators will change from 10 in version 0.20 to 100 in 0.22.\n",
            "  \"10 in version 0.20 to 100 in 0.22.\", FutureWarning)\n",
            "/home/rachel/anaconda3/lib/python3.7/site-packages/sklearn/ensemble/forest.py:246: FutureWarning: The default value of n_estimators will change from 10 in version 0.20 to 100 in 0.22.\n",
            "  \"10 in version 0.20 to 100 in 0.22.\", FutureWarning)\n",
            "/home/rachel/anaconda3/lib/python3.7/site-packages/sklearn/ensemble/forest.py:246: FutureWarning: The default value of n_estimators will change from 10 in version 0.20 to 100 in 0.22.\n",
            "  \"10 in version 0.20 to 100 in 0.22.\", FutureWarning)\n",
            "/home/rachel/anaconda3/lib/python3.7/site-packages/sklearn/ensemble/forest.py:246: FutureWarning: The default value of n_estimators will change from 10 in version 0.20 to 100 in 0.22.\n",
            "  \"10 in version 0.20 to 100 in 0.22.\", FutureWarning)\n",
            "/home/rachel/anaconda3/lib/python3.7/site-packages/sklearn/ensemble/forest.py:246: FutureWarning: The default value of n_estimators will change from 10 in version 0.20 to 100 in 0.22.\n",
            "  \"10 in version 0.20 to 100 in 0.22.\", FutureWarning)\n",
            "/home/rachel/anaconda3/lib/python3.7/site-packages/sklearn/ensemble/forest.py:246: FutureWarning: The default value of n_estimators will change from 10 in version 0.20 to 100 in 0.22.\n",
            "  \"10 in version 0.20 to 100 in 0.22.\", FutureWarning)\n",
            "/home/rachel/anaconda3/lib/python3.7/site-packages/sklearn/ensemble/forest.py:246: FutureWarning: The default value of n_estimators will change from 10 in version 0.20 to 100 in 0.22.\n",
            "  \"10 in version 0.20 to 100 in 0.22.\", FutureWarning)\n",
            "/home/rachel/anaconda3/lib/python3.7/site-packages/sklearn/ensemble/forest.py:246: FutureWarning: The default value of n_estimators will change from 10 in version 0.20 to 100 in 0.22.\n",
            "  \"10 in version 0.20 to 100 in 0.22.\", FutureWarning)\n"
          ]
        }
      ],
      "source": [
        "from sklearn.model_selection import cross_val_score\n",
        "from sklearn.model_selection import cross_validate\n",
        "random_forest = RandomForestClassifier()\n",
        "scoring = ['accuracy', 'precision_macro', 'recall_macro' , 'f1_weighted', 'roc_auc']\n",
        "scores = cross_validate(random_forest, X_train, y_train, scoring=scoring, cv=20)\n",
        "\n",
        "sorted(scores.keys())\n",
        "forest_fit_time = scores['fit_time'].mean()\n",
        "forest_score_time = scores['score_time'].mean()\n",
        "forest_accuracy = scores['test_accuracy'].mean()\n",
        "forest_precision = scores['test_precision_macro'].mean()\n",
        "forest_recall = scores['test_recall_macro'].mean()\n",
        "forest_f1 = scores['test_f1_weighted'].mean()\n",
        "forest_roc = scores['test_roc_auc'].mean()"
      ]
    },
    {
      "cell_type": "code",
      "execution_count": null,
      "metadata": {
        "id": "CUFZGjYyGQfG"
      },
      "outputs": [],
      "source": [
        "#Importing modules\n",
        "import numpy as np\n",
        "import pandas as pd\n",
        "%matplotlib inline\n",
        "import matplotlib.pyplot as plt\n",
        "import seaborn as sns\n",
        "from sklearn.model_selection import train_test_split\n",
        "from sklearn.preprocessing import StandardScaler\n",
        "from sklearn.neighbors import KNeighborsClassifier\n",
        "from sklearn.ensemble import RandomForestClassifier\n",
        "from sklearn.decomposition import PCA\n",
        "from sklearn.metrics import confusion_matrix\n",
        "from sklearn.model_selection import cross_val_score\n",
        "from sklearn.svm import SVC\n",
        "from sklearn.ensemble import AdaBoostClassifier\n",
        "from sklearn.linear_model import LogisticRegression\n",
        "from sklearn.tree import DecisionTreeClassifier\n",
        "from sklearn.model_selection import GridSearchCV\n",
        "from sklearn.metrics import precision_score, recall_score\n",
        "from sklearn.metrics import confusion_matrix\n",
        "from sklearn.metrics import accuracy_score\n",
        "import warnings\n",
        "warnings.filterwarnings('ignore')\n",
        "import os"
      ]
    },
    {
      "cell_type": "code",
      "execution_count": null,
      "metadata": {
        "id": "TLolO2LwGQfG"
      },
      "outputs": [],
      "source": [
        "from sklearn.model_selection import cross_val_score\n",
        "from sklearn.model_selection import cross_validate\n",
        "SVM_CV = SVC(probability = True)\n",
        "\n",
        "scoring = ['accuracy','precision_macro', 'recall_macro' , 'f1_weighted', 'roc_auc']\n",
        "scores = cross_validate(SVM_CV, X_train, y_train, scoring=scoring, cv=20)\n",
        "\n",
        "sorted(scores.keys())\n",
        "SVM_CV_fit_time = scores['fit_time'].mean()\n",
        "SVM_CV_score_time = scores['score_time'].mean()\n",
        "SVM_CV_accuracy = scores['test_accuracy'].mean()\n",
        "SVM_CV_precision = scores['test_precision_macro'].mean()\n",
        "SVM_CV_recall = scores['test_recall_macro'].mean()\n",
        "SVM_CV_f1 = scores['test_f1_weighted'].mean()\n",
        "SVM_CV_roc = scores['test_roc_auc'].mean()"
      ]
    },
    {
      "cell_type": "code",
      "execution_count": null,
      "metadata": {
        "id": "DLrxy5ZyGQfH",
        "outputId": "3d35c760-a6ae-46fb-d764-491c0ad9f130"
      },
      "outputs": [
        {
          "name": "stdout",
          "output_type": "stream",
          "text": [
            "Best Hyper Parameters:\n",
            " {'C': 6, 'kernel': 'linear'}\n",
            "Accuracy: 1.0\n",
            "Confusion Metrix:\n",
            " [[239   0]\n",
            " [  0  19]]\n",
            "              precision    recall  f1-score   support\n",
            "\n",
            "           0       1.00      1.00      1.00       239\n",
            "           1       1.00      1.00      1.00        19\n",
            "\n",
            "   micro avg       1.00      1.00      1.00       258\n",
            "   macro avg       1.00      1.00      1.00       258\n",
            "weighted avg       1.00      1.00      1.00       258\n",
            "\n"
          ]
        }
      ],
      "source": [
        "#With Hyper Parameters Tuning\n",
        "#2-3,SVM\n",
        "#importing modules\n",
        "from sklearn.model_selection import GridSearchCV\n",
        "from sklearn import svm\n",
        "#making the instance\n",
        "model=SVC()\n",
        "#Hyper Parameters Set\n",
        "params = {'C': [6,7,8,9,10,11,12],\n",
        "          'kernel': ['linear','rbf']}\n",
        "\n",
        "#Making models with hyper parameters sets\n",
        "model1 = GridSearchCV(model, param_grid=params, n_jobs=-1)\n",
        "#Learning\n",
        "model1.fit(X_train,y_train)\n",
        "#The best hyper parameters set\n",
        "print(\"Best Hyper Parameters:\\n\",model1.best_params_)\n",
        "#Prediction\n",
        "prediction=model1.predict(X_test)\n",
        "#importing the metrics module\n",
        "from sklearn import metrics\n",
        "#evaluation(Accuracy)\n",
        "print(\"Accuracy:\",metrics.accuracy_score(prediction,y_test))\n",
        "#evaluation(Confusion Metrix)\n",
        "print(\"Confusion Metrix:\\n\",metrics.confusion_matrix(prediction,y_test))\n",
        "from sklearn.metrics import classification_report\n",
        "print(classification_report(y_test, prediction))"
      ]
    },
    {
      "cell_type": "code",
      "execution_count": null,
      "metadata": {
        "id": "VwT8u-r8GQfI"
      },
      "outputs": [],
      "source": [
        "KNN_CV = KNeighborsClassifier()\n",
        "\n",
        "scoring = ['accuracy', 'precision_macro', 'recall_macro' , 'f1_weighted', 'roc_auc']\n",
        "scores = cross_validate(KNN_CV, X_train, y_train, scoring=scoring, cv=20)\n",
        "\n",
        "sorted(scores.keys())\n",
        "KNN_CV_fit_time = scores['fit_time'].mean()\n",
        "KNN_CV_score_time = scores['score_time'].mean()\n",
        "KNN_CV_accuracy = scores['test_accuracy'].mean()\n",
        "KNN_CV_precision = scores['test_precision_macro'].mean()\n",
        "KNN_CV_recall = scores['test_recall_macro'].mean()\n",
        "KNN_CV_f1 = scores['test_f1_weighted'].mean()\n",
        "KNN_CV_roc = scores['test_roc_auc'].mean()"
      ]
    },
    {
      "cell_type": "code",
      "execution_count": null,
      "metadata": {
        "id": "8h2NX_TIGQfJ",
        "outputId": "c115a697-d7df-43dc-a5db-1457f33ba5b7"
      },
      "outputs": [
        {
          "name": "stdout",
          "output_type": "stream",
          "text": [
            "Best Hyper Parameters:\n",
            " {'algorithm': 'auto', 'leaf_size': 1, 'n_jobs': -1, 'n_neighbors': 5, 'weights': 'uniform'}\n",
            "Accuracy: 0.9263565891472868\n",
            "Confusion Metrix:\n",
            " [[238  18]\n",
            " [  1   1]]\n",
            "              precision    recall  f1-score   support\n",
            "\n",
            "           0       0.93      1.00      0.96       239\n",
            "           1       0.50      0.05      0.10        19\n",
            "\n",
            "   micro avg       0.93      0.93      0.93       258\n",
            "   macro avg       0.71      0.52      0.53       258\n",
            "weighted avg       0.90      0.93      0.90       258\n",
            "\n"
          ]
        }
      ],
      "source": [
        "#With Hyper Parameters Tuning\n",
        "#2-4,kNearestNeighbors\n",
        "#importing modules\n",
        "from sklearn.model_selection import GridSearchCV\n",
        "from sklearn.neighbors import KNeighborsClassifier\n",
        "#making the instance\n",
        "model = KNeighborsClassifier(n_jobs=-1)\n",
        "#Hyper Parameters Set\n",
        "params = {'n_neighbors':[5,6,7,8,9,10],\n",
        "          'leaf_size':[1,2,3,5],\n",
        "          'weights':['uniform', 'distance'],\n",
        "          'algorithm':['auto', 'ball_tree','kd_tree','brute'],\n",
        "          'n_jobs':[-1]}\n",
        "#Making models with hyper parameters sets\n",
        "model1 = GridSearchCV(model, param_grid=params, n_jobs=1)\n",
        "#Learning\n",
        "model1.fit(X_train,y_train)\n",
        "#The best hyper parameters set\n",
        "print(\"Best Hyper Parameters:\\n\",model1.best_params_)\n",
        "#Prediction\n",
        "prediction=model1.predict(X_test)\n",
        "#importing the metrics module\n",
        "from sklearn import metrics\n",
        "#evaluation(Accuracy)\n",
        "print(\"Accuracy:\",metrics.accuracy_score(prediction,y_test))\n",
        "#evaluation(Confusion Metrix)\n",
        "print(\"Confusion Metrix:\\n\",metrics.confusion_matrix(prediction,y_test))\n",
        "from sklearn.metrics import classification_report\n",
        "print(classification_report(y_test, prediction))"
      ]
    },
    {
      "cell_type": "code",
      "execution_count": null,
      "metadata": {
        "id": "RiRPVHaEGQfK"
      },
      "outputs": [],
      "source": []
    },
    {
      "cell_type": "code",
      "execution_count": null,
      "metadata": {
        "id": "9nsqmi5QGQfL"
      },
      "outputs": [],
      "source": []
    }
  ],
  "metadata": {
    "kernelspec": {
      "display_name": "Python 3",
      "language": "python",
      "name": "python3"
    },
    "language_info": {
      "codemirror_mode": {
        "name": "ipython",
        "version": 3
      },
      "file_extension": ".py",
      "mimetype": "text/x-python",
      "name": "python",
      "nbconvert_exporter": "python",
      "pygments_lexer": "ipython3",
      "version": "3.7.3"
    },
    "colab": {
      "provenance": []
    }
  },
  "nbformat": 4,
  "nbformat_minor": 0
}