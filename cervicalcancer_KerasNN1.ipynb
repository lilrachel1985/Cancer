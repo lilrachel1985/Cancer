{
  "cells": [
    {
      "cell_type": "markdown",
      "metadata": {
        "id": "view-in-github",
        "colab_type": "text"
      },
      "source": [
        "<a href=\"https://colab.research.google.com/github/lilrachel1985/Cancer/blob/main/cervicalcancer_KerasNN1.ipynb\" target=\"_parent\"><img src=\"https://colab.research.google.com/assets/colab-badge.svg\" alt=\"Open In Colab\"/></a>"
      ]
    },
    {
      "cell_type": "code",
      "execution_count": 1,
      "metadata": {
        "id": "qoufodf3c5kt"
      },
      "outputs": [],
      "source": [
        "#imports\n",
        "import numpy as np # linear algebra\n",
        "import pandas as pd # data processing, CSV file I/O (e.g. pd.read_csv)\n",
        "from keras.models import Sequential,Model\n",
        "from keras.layers import Lambda,Dense, Activation,Input, Concatenate, Dropout,Flatten\n",
        "from sklearn.model_selection import  train_test_split\n",
        "from matplotlib import pyplot\n",
        "from sklearn import metrics\n",
        "from sklearn.model_selection import KFold, cross_val_score\n",
        "from keras.utils import Sequence\n",
        "import xgboost as xgb\n",
        "from xgboost import XGBClassifier\n",
        "from xgboost import plot_importance\n",
        "from xgboost import plot_tree\n",
        "from time import time\n",
        "from sklearn.preprocessing import StandardScaler"
      ]
    },
    {
      "cell_type": "code",
      "execution_count": 2,
      "metadata": {
        "id": "PUiMSANIc5kv"
      },
      "outputs": [],
      "source": [
        "df= pd.read_csv('cervical_cancer2.csv')"
      ]
    },
    {
      "cell_type": "code",
      "execution_count": 3,
      "metadata": {
        "colab": {
          "base_uri": "https://localhost:8080/",
          "height": 369
        },
        "id": "jbsJmSwJc5kw",
        "outputId": "aee15be8-8b31-47c8-efb5-51db9eedbca0"
      },
      "outputs": [
        {
          "output_type": "execute_result",
          "data": {
            "text/plain": [
              "   Age  Number of sexual partners  First sexual intercourse  \\\n",
              "0   18                          4                        15   \n",
              "1   15                          1                        14   \n",
              "2   34                          1                         0   \n",
              "3   52                          5                        16   \n",
              "4   46                          3                        21   \n",
              "\n",
              "   Num of pregnancies  Smokes  Smokes (years)  Smokes (packs/year)  \\\n",
              "0                   1       0             0.0                  0.0   \n",
              "1                   1       0             0.0                  0.0   \n",
              "2                   1       0             0.0                  0.0   \n",
              "3                   4       1            37.0                 37.0   \n",
              "4                   4       0             0.0                  0.0   \n",
              "\n",
              "   Hormonal Contraceptives  Hormonal Contraceptives (years)  IUD  ...  \\\n",
              "0                        0                              0.0    0  ...   \n",
              "1                        0                              0.0    0  ...   \n",
              "2                        0                              0.0    0  ...   \n",
              "3                        1                              3.0    0  ...   \n",
              "4                        1                             15.0    0  ...   \n",
              "\n",
              "   STDs: Time since first diagnosis  STDs: Time since last diagnosis  \\\n",
              "0                                 0                                0   \n",
              "1                                 0                                0   \n",
              "2                                 0                                0   \n",
              "3                                 0                                0   \n",
              "4                                 0                                0   \n",
              "\n",
              "   Dx:Cancer  Dx:CIN  Dx:HPV  Dx  Hinselmann  Schiller  Citology  Biopsy  \n",
              "0          0       0       0   0           0         0         0       0  \n",
              "1          0       0       0   0           0         0         0       0  \n",
              "2          0       0       0   0           0         0         0       0  \n",
              "3          1       0       1   0           0         0         0       0  \n",
              "4          0       0       0   0           0         0         0       0  \n",
              "\n",
              "[5 rows x 36 columns]"
            ],
            "text/html": [
              "\n",
              "\n",
              "  <div id=\"df-9a4216fa-20ff-4002-830e-63aa70551454\">\n",
              "    <div class=\"colab-df-container\">\n",
              "      <div>\n",
              "<style scoped>\n",
              "    .dataframe tbody tr th:only-of-type {\n",
              "        vertical-align: middle;\n",
              "    }\n",
              "\n",
              "    .dataframe tbody tr th {\n",
              "        vertical-align: top;\n",
              "    }\n",
              "\n",
              "    .dataframe thead th {\n",
              "        text-align: right;\n",
              "    }\n",
              "</style>\n",
              "<table border=\"1\" class=\"dataframe\">\n",
              "  <thead>\n",
              "    <tr style=\"text-align: right;\">\n",
              "      <th></th>\n",
              "      <th>Age</th>\n",
              "      <th>Number of sexual partners</th>\n",
              "      <th>First sexual intercourse</th>\n",
              "      <th>Num of pregnancies</th>\n",
              "      <th>Smokes</th>\n",
              "      <th>Smokes (years)</th>\n",
              "      <th>Smokes (packs/year)</th>\n",
              "      <th>Hormonal Contraceptives</th>\n",
              "      <th>Hormonal Contraceptives (years)</th>\n",
              "      <th>IUD</th>\n",
              "      <th>...</th>\n",
              "      <th>STDs: Time since first diagnosis</th>\n",
              "      <th>STDs: Time since last diagnosis</th>\n",
              "      <th>Dx:Cancer</th>\n",
              "      <th>Dx:CIN</th>\n",
              "      <th>Dx:HPV</th>\n",
              "      <th>Dx</th>\n",
              "      <th>Hinselmann</th>\n",
              "      <th>Schiller</th>\n",
              "      <th>Citology</th>\n",
              "      <th>Biopsy</th>\n",
              "    </tr>\n",
              "  </thead>\n",
              "  <tbody>\n",
              "    <tr>\n",
              "      <th>0</th>\n",
              "      <td>18</td>\n",
              "      <td>4</td>\n",
              "      <td>15</td>\n",
              "      <td>1</td>\n",
              "      <td>0</td>\n",
              "      <td>0.0</td>\n",
              "      <td>0.0</td>\n",
              "      <td>0</td>\n",
              "      <td>0.0</td>\n",
              "      <td>0</td>\n",
              "      <td>...</td>\n",
              "      <td>0</td>\n",
              "      <td>0</td>\n",
              "      <td>0</td>\n",
              "      <td>0</td>\n",
              "      <td>0</td>\n",
              "      <td>0</td>\n",
              "      <td>0</td>\n",
              "      <td>0</td>\n",
              "      <td>0</td>\n",
              "      <td>0</td>\n",
              "    </tr>\n",
              "    <tr>\n",
              "      <th>1</th>\n",
              "      <td>15</td>\n",
              "      <td>1</td>\n",
              "      <td>14</td>\n",
              "      <td>1</td>\n",
              "      <td>0</td>\n",
              "      <td>0.0</td>\n",
              "      <td>0.0</td>\n",
              "      <td>0</td>\n",
              "      <td>0.0</td>\n",
              "      <td>0</td>\n",
              "      <td>...</td>\n",
              "      <td>0</td>\n",
              "      <td>0</td>\n",
              "      <td>0</td>\n",
              "      <td>0</td>\n",
              "      <td>0</td>\n",
              "      <td>0</td>\n",
              "      <td>0</td>\n",
              "      <td>0</td>\n",
              "      <td>0</td>\n",
              "      <td>0</td>\n",
              "    </tr>\n",
              "    <tr>\n",
              "      <th>2</th>\n",
              "      <td>34</td>\n",
              "      <td>1</td>\n",
              "      <td>0</td>\n",
              "      <td>1</td>\n",
              "      <td>0</td>\n",
              "      <td>0.0</td>\n",
              "      <td>0.0</td>\n",
              "      <td>0</td>\n",
              "      <td>0.0</td>\n",
              "      <td>0</td>\n",
              "      <td>...</td>\n",
              "      <td>0</td>\n",
              "      <td>0</td>\n",
              "      <td>0</td>\n",
              "      <td>0</td>\n",
              "      <td>0</td>\n",
              "      <td>0</td>\n",
              "      <td>0</td>\n",
              "      <td>0</td>\n",
              "      <td>0</td>\n",
              "      <td>0</td>\n",
              "    </tr>\n",
              "    <tr>\n",
              "      <th>3</th>\n",
              "      <td>52</td>\n",
              "      <td>5</td>\n",
              "      <td>16</td>\n",
              "      <td>4</td>\n",
              "      <td>1</td>\n",
              "      <td>37.0</td>\n",
              "      <td>37.0</td>\n",
              "      <td>1</td>\n",
              "      <td>3.0</td>\n",
              "      <td>0</td>\n",
              "      <td>...</td>\n",
              "      <td>0</td>\n",
              "      <td>0</td>\n",
              "      <td>1</td>\n",
              "      <td>0</td>\n",
              "      <td>1</td>\n",
              "      <td>0</td>\n",
              "      <td>0</td>\n",
              "      <td>0</td>\n",
              "      <td>0</td>\n",
              "      <td>0</td>\n",
              "    </tr>\n",
              "    <tr>\n",
              "      <th>4</th>\n",
              "      <td>46</td>\n",
              "      <td>3</td>\n",
              "      <td>21</td>\n",
              "      <td>4</td>\n",
              "      <td>0</td>\n",
              "      <td>0.0</td>\n",
              "      <td>0.0</td>\n",
              "      <td>1</td>\n",
              "      <td>15.0</td>\n",
              "      <td>0</td>\n",
              "      <td>...</td>\n",
              "      <td>0</td>\n",
              "      <td>0</td>\n",
              "      <td>0</td>\n",
              "      <td>0</td>\n",
              "      <td>0</td>\n",
              "      <td>0</td>\n",
              "      <td>0</td>\n",
              "      <td>0</td>\n",
              "      <td>0</td>\n",
              "      <td>0</td>\n",
              "    </tr>\n",
              "  </tbody>\n",
              "</table>\n",
              "<p>5 rows × 36 columns</p>\n",
              "</div>\n",
              "      <button class=\"colab-df-convert\" onclick=\"convertToInteractive('df-9a4216fa-20ff-4002-830e-63aa70551454')\"\n",
              "              title=\"Convert this dataframe to an interactive table.\"\n",
              "              style=\"display:none;\">\n",
              "\n",
              "  <svg xmlns=\"http://www.w3.org/2000/svg\" height=\"24px\"viewBox=\"0 0 24 24\"\n",
              "       width=\"24px\">\n",
              "    <path d=\"M0 0h24v24H0V0z\" fill=\"none\"/>\n",
              "    <path d=\"M18.56 5.44l.94 2.06.94-2.06 2.06-.94-2.06-.94-.94-2.06-.94 2.06-2.06.94zm-11 1L8.5 8.5l.94-2.06 2.06-.94-2.06-.94L8.5 2.5l-.94 2.06-2.06.94zm10 10l.94 2.06.94-2.06 2.06-.94-2.06-.94-.94-2.06-.94 2.06-2.06.94z\"/><path d=\"M17.41 7.96l-1.37-1.37c-.4-.4-.92-.59-1.43-.59-.52 0-1.04.2-1.43.59L10.3 9.45l-7.72 7.72c-.78.78-.78 2.05 0 2.83L4 21.41c.39.39.9.59 1.41.59.51 0 1.02-.2 1.41-.59l7.78-7.78 2.81-2.81c.8-.78.8-2.07 0-2.86zM5.41 20L4 18.59l7.72-7.72 1.47 1.35L5.41 20z\"/>\n",
              "  </svg>\n",
              "      </button>\n",
              "\n",
              "\n",
              "\n",
              "    <div id=\"df-2404cd95-910f-4801-9cc0-9ef7a0297a42\">\n",
              "      <button class=\"colab-df-quickchart\" onclick=\"quickchart('df-2404cd95-910f-4801-9cc0-9ef7a0297a42')\"\n",
              "              title=\"Suggest charts.\"\n",
              "              style=\"display:none;\">\n",
              "\n",
              "<svg xmlns=\"http://www.w3.org/2000/svg\" height=\"24px\"viewBox=\"0 0 24 24\"\n",
              "     width=\"24px\">\n",
              "    <g>\n",
              "        <path d=\"M19 3H5c-1.1 0-2 .9-2 2v14c0 1.1.9 2 2 2h14c1.1 0 2-.9 2-2V5c0-1.1-.9-2-2-2zM9 17H7v-7h2v7zm4 0h-2V7h2v10zm4 0h-2v-4h2v4z\"/>\n",
              "    </g>\n",
              "</svg>\n",
              "      </button>\n",
              "    </div>\n",
              "\n",
              "<style>\n",
              "  .colab-df-quickchart {\n",
              "    background-color: #E8F0FE;\n",
              "    border: none;\n",
              "    border-radius: 50%;\n",
              "    cursor: pointer;\n",
              "    display: none;\n",
              "    fill: #1967D2;\n",
              "    height: 32px;\n",
              "    padding: 0 0 0 0;\n",
              "    width: 32px;\n",
              "  }\n",
              "\n",
              "  .colab-df-quickchart:hover {\n",
              "    background-color: #E2EBFA;\n",
              "    box-shadow: 0px 1px 2px rgba(60, 64, 67, 0.3), 0px 1px 3px 1px rgba(60, 64, 67, 0.15);\n",
              "    fill: #174EA6;\n",
              "  }\n",
              "\n",
              "  [theme=dark] .colab-df-quickchart {\n",
              "    background-color: #3B4455;\n",
              "    fill: #D2E3FC;\n",
              "  }\n",
              "\n",
              "  [theme=dark] .colab-df-quickchart:hover {\n",
              "    background-color: #434B5C;\n",
              "    box-shadow: 0px 1px 3px 1px rgba(0, 0, 0, 0.15);\n",
              "    filter: drop-shadow(0px 1px 2px rgba(0, 0, 0, 0.3));\n",
              "    fill: #FFFFFF;\n",
              "  }\n",
              "</style>\n",
              "\n",
              "    <script>\n",
              "      async function quickchart(key) {\n",
              "        const containerElement = document.querySelector('#' + key);\n",
              "        const charts = await google.colab.kernel.invokeFunction(\n",
              "            'suggestCharts', [key], {});\n",
              "      }\n",
              "    </script>\n",
              "\n",
              "      <script>\n",
              "\n",
              "function displayQuickchartButton(domScope) {\n",
              "  let quickchartButtonEl =\n",
              "    domScope.querySelector('#df-2404cd95-910f-4801-9cc0-9ef7a0297a42 button.colab-df-quickchart');\n",
              "  quickchartButtonEl.style.display =\n",
              "    google.colab.kernel.accessAllowed ? 'block' : 'none';\n",
              "}\n",
              "\n",
              "        displayQuickchartButton(document);\n",
              "      </script>\n",
              "      <style>\n",
              "    .colab-df-container {\n",
              "      display:flex;\n",
              "      flex-wrap:wrap;\n",
              "      gap: 12px;\n",
              "    }\n",
              "\n",
              "    .colab-df-convert {\n",
              "      background-color: #E8F0FE;\n",
              "      border: none;\n",
              "      border-radius: 50%;\n",
              "      cursor: pointer;\n",
              "      display: none;\n",
              "      fill: #1967D2;\n",
              "      height: 32px;\n",
              "      padding: 0 0 0 0;\n",
              "      width: 32px;\n",
              "    }\n",
              "\n",
              "    .colab-df-convert:hover {\n",
              "      background-color: #E2EBFA;\n",
              "      box-shadow: 0px 1px 2px rgba(60, 64, 67, 0.3), 0px 1px 3px 1px rgba(60, 64, 67, 0.15);\n",
              "      fill: #174EA6;\n",
              "    }\n",
              "\n",
              "    [theme=dark] .colab-df-convert {\n",
              "      background-color: #3B4455;\n",
              "      fill: #D2E3FC;\n",
              "    }\n",
              "\n",
              "    [theme=dark] .colab-df-convert:hover {\n",
              "      background-color: #434B5C;\n",
              "      box-shadow: 0px 1px 3px 1px rgba(0, 0, 0, 0.15);\n",
              "      filter: drop-shadow(0px 1px 2px rgba(0, 0, 0, 0.3));\n",
              "      fill: #FFFFFF;\n",
              "    }\n",
              "  </style>\n",
              "\n",
              "      <script>\n",
              "        const buttonEl =\n",
              "          document.querySelector('#df-9a4216fa-20ff-4002-830e-63aa70551454 button.colab-df-convert');\n",
              "        buttonEl.style.display =\n",
              "          google.colab.kernel.accessAllowed ? 'block' : 'none';\n",
              "\n",
              "        async function convertToInteractive(key) {\n",
              "          const element = document.querySelector('#df-9a4216fa-20ff-4002-830e-63aa70551454');\n",
              "          const dataTable =\n",
              "            await google.colab.kernel.invokeFunction('convertToInteractive',\n",
              "                                                     [key], {});\n",
              "          if (!dataTable) return;\n",
              "\n",
              "          const docLinkHtml = 'Like what you see? Visit the ' +\n",
              "            '<a target=\"_blank\" href=https://colab.research.google.com/notebooks/data_table.ipynb>data table notebook</a>'\n",
              "            + ' to learn more about interactive tables.';\n",
              "          element.innerHTML = '';\n",
              "          dataTable['output_type'] = 'display_data';\n",
              "          await google.colab.output.renderOutput(dataTable, element);\n",
              "          const docLink = document.createElement('div');\n",
              "          docLink.innerHTML = docLinkHtml;\n",
              "          element.appendChild(docLink);\n",
              "        }\n",
              "      </script>\n",
              "    </div>\n",
              "  </div>\n"
            ]
          },
          "metadata": {},
          "execution_count": 3
        }
      ],
      "source": [
        "df.head()"
      ]
    },
    {
      "cell_type": "code",
      "execution_count": 4,
      "metadata": {
        "id": "PYAVZkX1c5kw"
      },
      "outputs": [],
      "source": [
        "features = df.columns[1:31]\n"
      ]
    },
    {
      "cell_type": "code",
      "execution_count": 5,
      "metadata": {
        "colab": {
          "base_uri": "https://localhost:8080/"
        },
        "id": "U6SN_Zthc5kw",
        "outputId": "826cdcf4-5c4d-49aa-9b51-ab5a5afa8913"
      },
      "outputs": [
        {
          "output_type": "execute_result",
          "data": {
            "text/plain": [
              "(858, 30)"
            ]
          },
          "metadata": {},
          "execution_count": 5
        }
      ],
      "source": [
        "df[features].shape"
      ]
    },
    {
      "cell_type": "code",
      "execution_count": 6,
      "metadata": {
        "colab": {
          "base_uri": "https://localhost:8080/"
        },
        "id": "6B2L9Fqxc5kx",
        "outputId": "8dc47d6c-9731-47d6-9dbc-87f310c69f6e"
      },
      "outputs": [
        {
          "output_type": "execute_result",
          "data": {
            "text/plain": [
              "0      0\n",
              "1      0\n",
              "2      0\n",
              "3      0\n",
              "4      0\n",
              "      ..\n",
              "853    0\n",
              "854    0\n",
              "855    0\n",
              "856    0\n",
              "857    0\n",
              "Name: Biopsy, Length: 858, dtype: int64"
            ]
          },
          "metadata": {},
          "execution_count": 6
        }
      ],
      "source": [
        "df[features]\n",
        "df['Biopsy']"
      ]
    },
    {
      "cell_type": "code",
      "execution_count": 7,
      "metadata": {
        "id": "NGRKGcWvc5kx"
      },
      "outputs": [],
      "source": [
        "X_train, X_test, y_train, y_test = train_test_split(df[features], df['Biopsy'].values, test_size=0.30, random_state=42)"
      ]
    },
    {
      "cell_type": "code",
      "execution_count": 8,
      "metadata": {
        "colab": {
          "base_uri": "https://localhost:8080/"
        },
        "id": "kH7_sLQGc5kx",
        "outputId": "29922f9a-c1b3-48b9-d41c-6efa46f747f6"
      },
      "outputs": [
        {
          "output_type": "stream",
          "name": "stdout",
          "text": [
            "Model: \"sequential\"\n",
            "_________________________________________________________________\n",
            " Layer (type)                Output Shape              Param #   \n",
            "=================================================================\n",
            " dense (Dense)               (None, 32)                992       \n",
            "                                                                 \n",
            " dropout (Dropout)           (None, 32)                0         \n",
            "                                                                 \n",
            " dense_1 (Dense)             (None, 16)                528       \n",
            "                                                                 \n",
            " dropout_1 (Dropout)         (None, 16)                0         \n",
            "                                                                 \n",
            " dense_2 (Dense)             (None, 8)                 136       \n",
            "                                                                 \n",
            " dropout_2 (Dropout)         (None, 8)                 0         \n",
            "                                                                 \n",
            " dense_3 (Dense)             (None, 1)                 9         \n",
            "                                                                 \n",
            "=================================================================\n",
            "Total params: 1,665\n",
            "Trainable params: 1,665\n",
            "Non-trainable params: 0\n",
            "_________________________________________________________________\n"
          ]
        }
      ],
      "source": [
        "# Initialising the ANN\n",
        "classifier = Sequential()\n",
        "\n",
        "# Adding the input layer and the first hidden layer\n",
        "classifier.add(Dense(units = 32, kernel_initializer = 'uniform', activation = 'relu', input_dim = 30))\n",
        "classifier.add(Dropout(rate = 0.1))\n",
        "\n",
        "# Adding the second hidden layer\n",
        "classifier.add(Dense(units = 16, kernel_initializer = 'uniform', activation = 'relu'))\n",
        "classifier.add(Dropout(rate = 0.1))\n",
        "\n",
        "\n",
        "# Adding the third hidden layer\n",
        "classifier.add(Dense(units = 8, kernel_initializer = 'uniform', activation = 'relu'))\n",
        "classifier.add(Dropout(rate = 0.1))\n",
        "\n",
        "\n",
        "# Adding the output layer\n",
        "classifier.add(Dense(units = 1, kernel_initializer = 'uniform', activation = 'sigmoid'))\n",
        "\n",
        "# Compiling the ANN\n",
        "classifier.compile(optimizer = 'adam', loss = 'binary_crossentropy', metrics = ['accuracy'])\n",
        "\n",
        "classifier.summary()"
      ]
    },
    {
      "cell_type": "code",
      "execution_count": 9,
      "metadata": {
        "id": "eGBakIvrc5ky"
      },
      "outputs": [],
      "source": [
        "import keras\n",
        "import matplotlib.pyplot as plt\n",
        "import numpy as np\n",
        "from IPython.display import clear_output\n",
        "class PlotLosses(keras.callbacks.Callback):\n",
        "    def on_train_begin(self, logs={}):\n",
        "        self.i = 0\n",
        "        self.x = []\n",
        "        self.losses = []\n",
        "        self.val_losses = []\n",
        "\n",
        "        self.fig = plt.figure()\n",
        "\n",
        "        self.logs = []\n",
        "\n",
        "    def on_epoch_end(self, epoch, logs={}):\n",
        "\n",
        "        self.logs.append(logs)\n",
        "        self.x.append(self.i)\n",
        "        self.losses.append(logs.get('loss'))\n",
        "        self.val_losses.append(logs.get('val_loss'))\n",
        "        self.i += 1\n",
        "\n",
        "        clear_output(wait=True)\n",
        "        plt.plot(self.x, self.losses, label=\"loss\")\n",
        "        plt.legend()\n",
        "        plt.show();\n",
        "\n",
        "plot_losses = PlotLosses()"
      ]
    },
    {
      "cell_type": "code",
      "execution_count": 10,
      "metadata": {
        "id": "u3GW0vW_c5ky"
      },
      "outputs": [],
      "source": [
        "scaler = StandardScaler()"
      ]
    },
    {
      "cell_type": "code",
      "execution_count": 11,
      "metadata": {
        "colab": {
          "base_uri": "https://localhost:8080/"
        },
        "id": "wlTaSm-ec5kz",
        "outputId": "dd0626ef-3ad7-41cf-af6a-ab7bbeeb2c40"
      },
      "outputs": [
        {
          "output_type": "execute_result",
          "data": {
            "text/plain": [
              "(600, 30)"
            ]
          },
          "metadata": {},
          "execution_count": 11
        }
      ],
      "source": [
        "X_train.shape"
      ]
    },
    {
      "cell_type": "code",
      "execution_count": 12,
      "metadata": {
        "colab": {
          "base_uri": "https://localhost:8080/",
          "height": 465
        },
        "id": "L7-QFXOzc5kz",
        "outputId": "9d636a2c-6bb8-4907-f925-4100c178314f"
      },
      "outputs": [
        {
          "output_type": "display_data",
          "data": {
            "text/plain": [
              "<Figure size 640x480 with 1 Axes>"
            ],
            "image/png": "[encoded data removed]"
          },
          "metadata": {}
        },
        {
          "output_type": "stream",
          "name": "stdout",
          "text": [
            "\b\b\b\b\b\b\b\b\b\b\b\b\b\b\b\b\b\b\b\b\b\b\b\b\b\b\b\b\b\b\b\b\b\b\b\b\b\b\b\b\b\b\b\b\b\b\b\b\b\b\b\b\b\b\b\b\b\b\b\b\b\b\b\b\b\b\b\b\b\b\b\b\b\b\b\b\b\b\b\b\b\b\b\b\r120/120 [==============================] - 1s 10ms/step - loss: 0.2243 - accuracy: 0.9333\n"
          ]
        },
        {
          "output_type": "execute_result",
          "data": {
            "text/plain": [
              "<keras.callbacks.History at 0x7f2c481e7850>"
            ]
          },
          "metadata": {},
          "execution_count": 12
        }
      ],
      "source": [
        "scaler = StandardScaler()\n",
        "\n",
        "classifier.fit(scaler.fit_transform(X_train.values), np.array(y_train),batch_size = 5,epochs=10,callbacks=[plot_losses])\n"
      ]
    },
    {
      "cell_type": "code",
      "execution_count": 13,
      "metadata": {
        "id": "TlaTP-pPc5kz"
      },
      "outputs": [],
      "source": [
        "from keras.models import load_model\n",
        "\n",
        "classifier.save('cervical_cancer_model.h5') #Save trained ANN"
      ]
    },
    {
      "cell_type": "code",
      "execution_count": 27,
      "metadata": {
        "id": "CJZ7PnGsc5kz"
      },
      "outputs": [],
      "source": [
        "from tensorflow.keras.models import Sequential\n",
        "from tensorflow.keras.layers import Dense\n",
        "# define the keras model\n",
        "model = Sequential([\n",
        "    Dense(32, activation='relu', input_shape=(30,)),\n",
        "    Dense(32, activation='relu'),\n",
        "    Dense(1, activation='sigmoid'),\n",
        "])\n"
      ]
    },
    {
      "cell_type": "code",
      "execution_count": 28,
      "metadata": {
        "colab": {
          "base_uri": "https://localhost:8080/"
        },
        "id": "9QxdTRLSc5kz",
        "outputId": "5aa1debf-5314-4c2a-b8ea-74f1556f8c0b"
      },
      "outputs": [
        {
          "output_type": "stream",
          "name": "stdout",
          "text": [
            "Epoch 1/150\n",
            "60/60 [==============================] - 1s 2ms/step - loss: 0.3123 - accuracy: 0.9150\n",
            "Epoch 2/150\n",
            "60/60 [==============================] - 0s 2ms/step - loss: 0.2591 - accuracy: 0.9333\n",
            "Epoch 3/150\n",
            "60/60 [==============================] - 0s 2ms/step - loss: 0.2500 - accuracy: 0.9333\n",
            "Epoch 4/150\n",
            "60/60 [==============================] - 0s 2ms/step - loss: 0.2451 - accuracy: 0.9333\n",
            "Epoch 5/150\n",
            "60/60 [==============================] - 0s 2ms/step - loss: 0.2400 - accuracy: 0.9333\n",
            "Epoch 6/150\n",
            "60/60 [==============================] - 0s 2ms/step - loss: 0.2405 - accuracy: 0.9350\n",
            "Epoch 7/150\n",
            "60/60 [==============================] - 0s 2ms/step - loss: 0.2341 - accuracy: 0.9350\n",
            "Epoch 8/150\n",
            "60/60 [==============================] - 0s 2ms/step - loss: 0.2327 - accuracy: 0.9350\n",
            "Epoch 9/150\n",
            "60/60 [==============================] - 0s 2ms/step - loss: 0.2381 - accuracy: 0.9333\n",
            "Epoch 10/150\n",
            "60/60 [==============================] - 0s 2ms/step - loss: 0.2234 - accuracy: 0.9350\n",
            "Epoch 11/150\n",
            "60/60 [==============================] - 0s 2ms/step - loss: 0.2222 - accuracy: 0.9350\n",
            "Epoch 12/150\n",
            "60/60 [==============================] - 0s 2ms/step - loss: 0.2203 - accuracy: 0.9367\n",
            "Epoch 13/150\n",
            "60/60 [==============================] - 0s 2ms/step - loss: 0.2185 - accuracy: 0.9350\n",
            "Epoch 14/150\n",
            "60/60 [==============================] - 0s 2ms/step - loss: 0.2164 - accuracy: 0.9367\n",
            "Epoch 15/150\n",
            "60/60 [==============================] - 0s 2ms/step - loss: 0.2105 - accuracy: 0.9367\n",
            "Epoch 16/150\n",
            "60/60 [==============================] - 0s 2ms/step - loss: 0.2188 - accuracy: 0.9400\n",
            "Epoch 17/150\n",
            "60/60 [==============================] - 0s 2ms/step - loss: 0.2162 - accuracy: 0.9317\n",
            "Epoch 18/150\n",
            "60/60 [==============================] - 0s 2ms/step - loss: 0.2142 - accuracy: 0.9367\n",
            "Epoch 19/150\n",
            "60/60 [==============================] - 0s 2ms/step - loss: 0.2096 - accuracy: 0.9350\n",
            "Epoch 20/150\n",
            "60/60 [==============================] - 0s 2ms/step - loss: 0.2034 - accuracy: 0.9383\n",
            "Epoch 21/150\n",
            "60/60 [==============================] - 0s 2ms/step - loss: 0.2073 - accuracy: 0.9367\n",
            "Epoch 22/150\n",
            "60/60 [==============================] - 0s 2ms/step - loss: 0.2016 - accuracy: 0.9400\n",
            "Epoch 23/150\n",
            "60/60 [==============================] - 0s 2ms/step - loss: 0.2009 - accuracy: 0.9367\n",
            "Epoch 24/150\n",
            "60/60 [==============================] - 0s 2ms/step - loss: 0.1985 - accuracy: 0.9383\n",
            "Epoch 25/150\n",
            "60/60 [==============================] - 0s 2ms/step - loss: 0.1994 - accuracy: 0.9367\n",
            "Epoch 26/150\n",
            "60/60 [==============================] - 0s 2ms/step - loss: 0.1921 - accuracy: 0.9383\n",
            "Epoch 27/150\n",
            "60/60 [==============================] - 0s 2ms/step - loss: 0.1947 - accuracy: 0.9383\n",
            "Epoch 28/150\n",
            "60/60 [==============================] - 0s 2ms/step - loss: 0.1968 - accuracy: 0.9450\n",
            "Epoch 29/150\n",
            "60/60 [==============================] - 0s 2ms/step - loss: 0.1899 - accuracy: 0.9367\n",
            "Epoch 30/150\n",
            "60/60 [==============================] - 0s 2ms/step - loss: 0.1936 - accuracy: 0.9400\n",
            "Epoch 31/150\n",
            "60/60 [==============================] - 0s 2ms/step - loss: 0.1897 - accuracy: 0.9400\n",
            "Epoch 32/150\n",
            "60/60 [==============================] - 0s 2ms/step - loss: 0.1886 - accuracy: 0.9433\n",
            "Epoch 33/150\n",
            "60/60 [==============================] - 0s 2ms/step - loss: 0.1841 - accuracy: 0.9383\n",
            "Epoch 34/150\n",
            "60/60 [==============================] - 0s 2ms/step - loss: 0.1907 - accuracy: 0.9367\n",
            "Epoch 35/150\n",
            "60/60 [==============================] - 0s 2ms/step - loss: 0.1845 - accuracy: 0.9433\n",
            "Epoch 36/150\n",
            "60/60 [==============================] - 0s 2ms/step - loss: 0.1869 - accuracy: 0.9417\n",
            "Epoch 37/150\n",
            "60/60 [==============================] - 0s 2ms/step - loss: 0.1795 - accuracy: 0.9400\n",
            "Epoch 38/150\n",
            "60/60 [==============================] - 0s 2ms/step - loss: 0.1848 - accuracy: 0.9383\n",
            "Epoch 39/150\n",
            "60/60 [==============================] - 0s 2ms/step - loss: 0.1790 - accuracy: 0.9450\n",
            "Epoch 40/150\n",
            "60/60 [==============================] - 0s 2ms/step - loss: 0.1790 - accuracy: 0.9433\n",
            "Epoch 41/150\n",
            "60/60 [==============================] - 0s 2ms/step - loss: 0.1780 - accuracy: 0.9433\n",
            "Epoch 42/150\n",
            "60/60 [==============================] - 0s 2ms/step - loss: 0.1752 - accuracy: 0.9483\n",
            "Epoch 43/150\n",
            "60/60 [==============================] - 0s 2ms/step - loss: 0.1736 - accuracy: 0.9467\n",
            "Epoch 44/150\n",
            "60/60 [==============================] - 0s 2ms/step - loss: 0.1782 - accuracy: 0.9383\n",
            "Epoch 45/150\n",
            "60/60 [==============================] - 0s 2ms/step - loss: 0.1719 - accuracy: 0.9467\n",
            "Epoch 46/150\n",
            "60/60 [==============================] - 0s 2ms/step - loss: 0.1732 - accuracy: 0.9433\n",
            "Epoch 47/150\n",
            "60/60 [==============================] - 0s 2ms/step - loss: 0.1679 - accuracy: 0.9567\n",
            "Epoch 48/150\n",
            "60/60 [==============================] - 0s 2ms/step - loss: 0.1743 - accuracy: 0.9400\n",
            "Epoch 49/150\n",
            "60/60 [==============================] - 0s 2ms/step - loss: 0.1726 - accuracy: 0.9433\n",
            "Epoch 50/150\n",
            "60/60 [==============================] - 0s 2ms/step - loss: 0.1711 - accuracy: 0.9483\n",
            "Epoch 51/150\n",
            "60/60 [==============================] - 0s 2ms/step - loss: 0.1709 - accuracy: 0.9400\n",
            "Epoch 52/150\n",
            "60/60 [==============================] - 0s 2ms/step - loss: 0.1682 - accuracy: 0.9450\n",
            "Epoch 53/150\n",
            "60/60 [==============================] - 0s 2ms/step - loss: 0.1738 - accuracy: 0.9517\n",
            "Epoch 54/150\n",
            "60/60 [==============================] - 0s 2ms/step - loss: 0.1665 - accuracy: 0.9483\n",
            "Epoch 55/150\n",
            "60/60 [==============================] - 0s 2ms/step - loss: 0.1617 - accuracy: 0.9500\n",
            "Epoch 56/150\n",
            "60/60 [==============================] - 0s 2ms/step - loss: 0.1653 - accuracy: 0.9500\n",
            "Epoch 57/150\n",
            "60/60 [==============================] - 0s 2ms/step - loss: 0.1711 - accuracy: 0.9467\n",
            "Epoch 58/150\n",
            "60/60 [==============================] - 0s 2ms/step - loss: 0.1602 - accuracy: 0.9483\n",
            "Epoch 59/150\n",
            "60/60 [==============================] - 0s 2ms/step - loss: 0.1586 - accuracy: 0.9533\n",
            "Epoch 60/150\n",
            "60/60 [==============================] - 0s 2ms/step - loss: 0.1578 - accuracy: 0.9533\n",
            "Epoch 61/150\n",
            "60/60 [==============================] - 0s 2ms/step - loss: 0.1581 - accuracy: 0.9550\n",
            "Epoch 62/150\n",
            "60/60 [==============================] - 0s 2ms/step - loss: 0.1553 - accuracy: 0.9517\n",
            "Epoch 63/150\n",
            "60/60 [==============================] - 0s 2ms/step - loss: 0.1660 - accuracy: 0.9583\n",
            "Epoch 64/150\n",
            "60/60 [==============================] - 0s 2ms/step - loss: 0.1565 - accuracy: 0.9517\n",
            "Epoch 65/150\n",
            "60/60 [==============================] - 0s 3ms/step - loss: 0.1579 - accuracy: 0.9517\n",
            "Epoch 66/150\n",
            "60/60 [==============================] - 0s 3ms/step - loss: 0.1532 - accuracy: 0.9600\n",
            "Epoch 67/150\n",
            "60/60 [==============================] - 0s 3ms/step - loss: 0.1552 - accuracy: 0.9617\n",
            "Epoch 68/150\n",
            "60/60 [==============================] - 0s 3ms/step - loss: 0.1530 - accuracy: 0.9567\n",
            "Epoch 69/150\n",
            "60/60 [==============================] - 0s 3ms/step - loss: 0.1518 - accuracy: 0.9583\n",
            "Epoch 70/150\n",
            "60/60 [==============================] - 0s 3ms/step - loss: 0.1544 - accuracy: 0.9567\n",
            "Epoch 71/150\n",
            "60/60 [==============================] - 0s 3ms/step - loss: 0.1474 - accuracy: 0.9567\n",
            "Epoch 72/150\n",
            "60/60 [==============================] - 0s 3ms/step - loss: 0.1460 - accuracy: 0.9583\n",
            "Epoch 73/150\n",
            "60/60 [==============================] - 0s 3ms/step - loss: 0.1439 - accuracy: 0.9600\n",
            "Epoch 74/150\n",
            "60/60 [==============================] - 0s 3ms/step - loss: 0.1423 - accuracy: 0.9633\n",
            "Epoch 75/150\n",
            "60/60 [==============================] - 0s 3ms/step - loss: 0.1443 - accuracy: 0.9583\n",
            "Epoch 76/150\n",
            "60/60 [==============================] - 0s 3ms/step - loss: 0.1434 - accuracy: 0.9583\n",
            "Epoch 77/150\n",
            "60/60 [==============================] - 0s 3ms/step - loss: 0.1436 - accuracy: 0.9583\n",
            "Epoch 78/150\n",
            "60/60 [==============================] - 0s 3ms/step - loss: 0.1461 - accuracy: 0.9600\n",
            "Epoch 79/150\n",
            "60/60 [==============================] - 0s 3ms/step - loss: 0.1432 - accuracy: 0.9583\n",
            "Epoch 80/150\n",
            "60/60 [==============================] - 0s 2ms/step - loss: 0.1405 - accuracy: 0.9617\n",
            "Epoch 81/150\n",
            "60/60 [==============================] - 0s 3ms/step - loss: 0.1424 - accuracy: 0.9633\n",
            "Epoch 82/150\n",
            "60/60 [==============================] - 0s 2ms/step - loss: 0.1438 - accuracy: 0.9617\n",
            "Epoch 83/150\n",
            "60/60 [==============================] - 0s 2ms/step - loss: 0.1382 - accuracy: 0.9633\n",
            "Epoch 84/150\n",
            "60/60 [==============================] - 0s 2ms/step - loss: 0.1404 - accuracy: 0.9600\n",
            "Epoch 85/150\n",
            "60/60 [==============================] - 0s 2ms/step - loss: 0.1427 - accuracy: 0.9650\n",
            "Epoch 86/150\n",
            "60/60 [==============================] - 0s 2ms/step - loss: 0.1355 - accuracy: 0.9617\n",
            "Epoch 87/150\n",
            "60/60 [==============================] - 0s 2ms/step - loss: 0.1372 - accuracy: 0.9650\n",
            "Epoch 88/150\n",
            "60/60 [==============================] - 0s 2ms/step - loss: 0.1349 - accuracy: 0.9617\n",
            "Epoch 89/150\n",
            "60/60 [==============================] - 0s 2ms/step - loss: 0.1307 - accuracy: 0.9650\n",
            "Epoch 90/150\n",
            "60/60 [==============================] - 0s 2ms/step - loss: 0.1407 - accuracy: 0.9617\n",
            "Epoch 91/150\n",
            "60/60 [==============================] - 0s 2ms/step - loss: 0.1394 - accuracy: 0.9600\n",
            "Epoch 92/150\n",
            "60/60 [==============================] - 0s 2ms/step - loss: 0.1415 - accuracy: 0.9583\n",
            "Epoch 93/150\n",
            "60/60 [==============================] - 0s 2ms/step - loss: 0.1375 - accuracy: 0.9600\n",
            "Epoch 94/150\n",
            "60/60 [==============================] - 0s 2ms/step - loss: 0.1310 - accuracy: 0.9633\n",
            "Epoch 95/150\n",
            "60/60 [==============================] - 0s 2ms/step - loss: 0.1328 - accuracy: 0.9650\n",
            "Epoch 96/150\n",
            "60/60 [==============================] - 0s 2ms/step - loss: 0.1362 - accuracy: 0.9617\n",
            "Epoch 97/150\n",
            "60/60 [==============================] - 0s 2ms/step - loss: 0.1337 - accuracy: 0.9650\n",
            "Epoch 98/150\n",
            "60/60 [==============================] - 0s 2ms/step - loss: 0.1295 - accuracy: 0.9633\n",
            "Epoch 99/150\n",
            "60/60 [==============================] - 0s 2ms/step - loss: 0.1321 - accuracy: 0.9633\n",
            "Epoch 100/150\n",
            "60/60 [==============================] - 0s 2ms/step - loss: 0.1343 - accuracy: 0.9650\n",
            "Epoch 101/150\n",
            "60/60 [==============================] - 0s 2ms/step - loss: 0.1292 - accuracy: 0.9650\n",
            "Epoch 102/150\n",
            "60/60 [==============================] - 0s 2ms/step - loss: 0.1281 - accuracy: 0.9633\n",
            "Epoch 103/150\n",
            "60/60 [==============================] - 0s 2ms/step - loss: 0.1378 - accuracy: 0.9633\n",
            "Epoch 104/150\n",
            "60/60 [==============================] - 0s 2ms/step - loss: 0.1258 - accuracy: 0.9667\n",
            "Epoch 105/150\n",
            "60/60 [==============================] - 0s 2ms/step - loss: 0.1229 - accuracy: 0.9667\n",
            "Epoch 106/150\n",
            "60/60 [==============================] - 0s 2ms/step - loss: 0.1241 - accuracy: 0.9667\n",
            "Epoch 107/150\n",
            "60/60 [==============================] - 0s 2ms/step - loss: 0.1281 - accuracy: 0.9650\n",
            "Epoch 108/150\n",
            "60/60 [==============================] - 0s 2ms/step - loss: 0.1227 - accuracy: 0.9633\n",
            "Epoch 109/150\n",
            "60/60 [==============================] - 0s 2ms/step - loss: 0.1236 - accuracy: 0.9650\n",
            "Epoch 110/150\n",
            "60/60 [==============================] - 0s 2ms/step - loss: 0.1219 - accuracy: 0.9667\n",
            "Epoch 111/150\n",
            "60/60 [==============================] - 0s 2ms/step - loss: 0.1275 - accuracy: 0.9600\n",
            "Epoch 112/150\n",
            "60/60 [==============================] - 0s 2ms/step - loss: 0.1269 - accuracy: 0.9633\n",
            "Epoch 113/150\n",
            "60/60 [==============================] - 0s 2ms/step - loss: 0.1252 - accuracy: 0.9633\n",
            "Epoch 114/150\n",
            "60/60 [==============================] - 0s 2ms/step - loss: 0.1248 - accuracy: 0.9667\n",
            "Epoch 115/150\n",
            "60/60 [==============================] - 0s 2ms/step - loss: 0.1220 - accuracy: 0.9667\n",
            "Epoch 116/150\n",
            "60/60 [==============================] - 0s 2ms/step - loss: 0.1214 - accuracy: 0.9650\n",
            "Epoch 117/150\n",
            "60/60 [==============================] - 0s 2ms/step - loss: 0.1187 - accuracy: 0.9650\n",
            "Epoch 118/150\n",
            "60/60 [==============================] - 0s 2ms/step - loss: 0.1195 - accuracy: 0.9650\n",
            "Epoch 119/150\n",
            "60/60 [==============================] - 0s 2ms/step - loss: 0.1186 - accuracy: 0.9633\n",
            "Epoch 120/150\n",
            "60/60 [==============================] - 0s 2ms/step - loss: 0.1277 - accuracy: 0.9667\n",
            "Epoch 121/150\n",
            "60/60 [==============================] - 0s 2ms/step - loss: 0.1169 - accuracy: 0.9683\n",
            "Epoch 122/150\n",
            "60/60 [==============================] - 0s 2ms/step - loss: 0.1247 - accuracy: 0.9617\n",
            "Epoch 123/150\n",
            "60/60 [==============================] - 0s 2ms/step - loss: 0.1266 - accuracy: 0.9633\n",
            "Epoch 124/150\n",
            "60/60 [==============================] - 0s 2ms/step - loss: 0.1315 - accuracy: 0.9617\n",
            "Epoch 125/150\n",
            "60/60 [==============================] - 0s 2ms/step - loss: 0.1223 - accuracy: 0.9667\n",
            "Epoch 126/150\n",
            "60/60 [==============================] - 0s 2ms/step - loss: 0.1158 - accuracy: 0.9667\n",
            "Epoch 127/150\n",
            "60/60 [==============================] - 0s 2ms/step - loss: 0.1151 - accuracy: 0.9667\n",
            "Epoch 128/150\n",
            "60/60 [==============================] - 0s 2ms/step - loss: 0.1138 - accuracy: 0.9683\n",
            "Epoch 129/150\n",
            "60/60 [==============================] - 0s 2ms/step - loss: 0.1133 - accuracy: 0.9667\n",
            "Epoch 130/150\n",
            "60/60 [==============================] - 0s 2ms/step - loss: 0.1182 - accuracy: 0.9650\n",
            "Epoch 131/150\n",
            "60/60 [==============================] - 0s 2ms/step - loss: 0.1118 - accuracy: 0.9650\n",
            "Epoch 132/150\n",
            "60/60 [==============================] - 0s 2ms/step - loss: 0.1228 - accuracy: 0.9650\n",
            "Epoch 133/150\n",
            "60/60 [==============================] - 0s 2ms/step - loss: 0.1155 - accuracy: 0.9683\n",
            "Epoch 134/150\n",
            "60/60 [==============================] - 0s 2ms/step - loss: 0.1192 - accuracy: 0.9650\n",
            "Epoch 135/150\n",
            "60/60 [==============================] - 0s 2ms/step - loss: 0.1135 - accuracy: 0.9650\n",
            "Epoch 136/150\n",
            "60/60 [==============================] - 0s 2ms/step - loss: 0.1124 - accuracy: 0.9650\n",
            "Epoch 137/150\n",
            "60/60 [==============================] - 0s 2ms/step - loss: 0.1129 - accuracy: 0.9650\n",
            "Epoch 138/150\n",
            "60/60 [==============================] - 0s 2ms/step - loss: 0.1108 - accuracy: 0.9667\n",
            "Epoch 139/150\n",
            "60/60 [==============================] - 0s 2ms/step - loss: 0.1134 - accuracy: 0.9650\n",
            "Epoch 140/150\n",
            "60/60 [==============================] - 0s 2ms/step - loss: 0.1066 - accuracy: 0.9650\n",
            "Epoch 141/150\n",
            "60/60 [==============================] - 0s 2ms/step - loss: 0.1170 - accuracy: 0.9667\n",
            "Epoch 142/150\n",
            "60/60 [==============================] - 0s 2ms/step - loss: 0.1133 - accuracy: 0.9633\n",
            "Epoch 143/150\n",
            "60/60 [==============================] - 0s 2ms/step - loss: 0.1123 - accuracy: 0.9667\n",
            "Epoch 144/150\n",
            "60/60 [==============================] - 0s 2ms/step - loss: 0.1080 - accuracy: 0.9667\n",
            "Epoch 145/150\n",
            "60/60 [==============================] - 0s 2ms/step - loss: 0.1102 - accuracy: 0.9667\n",
            "Epoch 146/150\n",
            "60/60 [==============================] - 0s 2ms/step - loss: 0.1063 - accuracy: 0.9667\n",
            "Epoch 147/150\n",
            "60/60 [==============================] - 0s 2ms/step - loss: 0.1055 - accuracy: 0.9667\n",
            "Epoch 148/150\n",
            "60/60 [==============================] - 0s 2ms/step - loss: 0.1105 - accuracy: 0.9667\n",
            "Epoch 149/150\n",
            "60/60 [==============================] - 0s 2ms/step - loss: 0.1048 - accuracy: 0.9667\n",
            "Epoch 150/150\n",
            "60/60 [==============================] - 0s 2ms/step - loss: 0.1043 - accuracy: 0.9667\n"
          ]
        },
        {
          "output_type": "execute_result",
          "data": {
            "text/plain": [
              "<keras.callbacks.History at 0x7f2c3544e5f0>"
            ]
          },
          "metadata": {},
          "execution_count": 28
        }
      ],
      "source": [
        "# compile the keras model\n",
        "model.compile(loss='binary_crossentropy', optimizer='adam', metrics=['accuracy'])\n",
        "# fit the keras model on the dataset\n",
        "model.fit(X_train, y_train, epochs=150, batch_size=10)\n"
      ]
    },
    {
      "cell_type": "code",
      "execution_count": 30,
      "metadata": {
        "id": "ePDsTvMfc5k0"
      },
      "outputs": [],
      "source": [
        "#model 2\n",
        "model = Sequential([\n",
        "    Dense(32, activation='relu', input_shape=(30,)),\n",
        "    Dense(32, activation='relu'),\n",
        "    Dense(1, activation='sigmoid'),\n",
        "])"
      ]
    },
    {
      "cell_type": "code",
      "execution_count": 31,
      "metadata": {
        "id": "czg7Dx9mc5k0"
      },
      "outputs": [],
      "source": [
        "model.compile(optimizer='sgd',\n",
        "              loss='binary_crossentropy',\n",
        "              metrics=['accuracy'])"
      ]
    },
    {
      "cell_type": "code",
      "execution_count": 32,
      "metadata": {
        "id": "M7QcHFFIc5k0"
      },
      "outputs": [],
      "source": [
        "epochs = 10\n",
        "learning_rate = 0.1\n",
        "decay_rate = learning_rate / epochs\n",
        "momentum = 0.8"
      ]
    },
    {
      "cell_type": "code",
      "execution_count": 33,
      "metadata": {
        "id": "H7UyBRDdc5k1"
      },
      "outputs": [],
      "source": [
        "def step_decay(epoch):\n",
        "    initial_lrate = 0.1\n",
        "    drop = 0.5\n",
        "    epochs_drop = 10.0\n",
        "    lrate = initial_lrate * math.pow(drop, math.floor((1+epoch)/epochs_drop))\n",
        "    return lrate"
      ]
    },
    {
      "cell_type": "code",
      "execution_count": 34,
      "metadata": {
        "colab": {
          "base_uri": "https://localhost:8080/",
          "height": 447
        },
        "id": "vLqy0vylc5k1",
        "outputId": "772e8809-6f8e-4687-9f47-fc6b845122f3"
      },
      "outputs": [
        {
          "output_type": "display_data",
          "data": {
            "text/plain": [
              "<Figure size 640x480 with 1 Axes>"
            ],
            "image/png": "[encoded data removed]"
          },
          "metadata": {}
        },
        {
          "output_type": "stream",
          "name": "stdout",
          "text": [
            "\b\b\b\b\b\b\b\b\b\b\b\b\b\b\b\b\b\b\b\b\b\b\b\b\b\b\b\b\b\b\b\b\b\b\b\b\b\b\b\b\b\b\b\b\b\b\b\b\b\b\b\b\b\b\b\b\b\b\b\b\b\b\b\b\b\b\b\b\b\b\b\b\b\b\b\b\b\b\b\b\b\b\b\b\r120/120 [==============================] - 0s 3ms/step - loss: 0.2092 - accuracy: 0.9367\n"
          ]
        }
      ],
      "source": [
        "hist = model.fit(scaler.fit_transform(X_train.values), np.array(y_train),\n",
        "          batch_size=5, epochs=10,callbacks=[plot_losses])"
      ]
    },
    {
      "cell_type": "code",
      "source": [
        "from keras import backend as K\n",
        "\n",
        "def recall_m(y_true, y_pred):\n",
        "    true_positives = K.sum(K.round(K.clip(y_true * y_pred, 0, 1)))\n",
        "    possible_positives = K.sum(K.round(K.clip(y_true, 0, 1)))\n",
        "    recall = true_positives / (possible_positives + K.epsilon())\n",
        "    return recall\n",
        "\n",
        "def precision_m(y_true, y_pred):\n",
        "    true_positives = K.sum(K.round(K.clip(y_true * y_pred, 0, 1)))\n",
        "    predicted_positives = K.sum(K.round(K.clip(y_pred, 0, 1)))\n",
        "    precision = true_positives / (predicted_positives + K.epsilon())\n",
        "    return precision\n",
        "\n",
        "def f1_m(y_true, y_pred):\n",
        "    precision = precision_m(y_true, y_pred)\n",
        "    recall = recall_m(y_true, y_pred)\n",
        "    return 2*((precision*recall)/(precision+recall+K.epsilon()))"
      ],
      "metadata": {
        "id": "_y34qGdAiQnf"
      },
      "execution_count": 60,
      "outputs": []
    },
    {
      "cell_type": "code",
      "source": [
        "# evaluate the model\n",
        "import tensorflow as tf\n",
        "precision, recall = model.evaluate(X_test, y_test, verbose=0)\n",
        "tf.keras.metrics.Accuracy()"
      ],
      "metadata": {
        "colab": {
          "base_uri": "https://localhost:8080/"
        },
        "id": "dnDjVD4HiSeB",
        "outputId": "8bd315ac-0d23-4d1c-90b1-832579f904aa"
      },
      "execution_count": 67,
      "outputs": [
        {
          "output_type": "execute_result",
          "data": {
            "text/plain": [
              "<keras.metrics.accuracy_metrics.Accuracy at 0x7f2c3075e050>"
            ]
          },
          "metadata": {},
          "execution_count": 67
        }
      ]
    },
    {
      "cell_type": "code",
      "execution_count": 68,
      "metadata": {
        "colab": {
          "base_uri": "https://localhost:8080/"
        },
        "id": "y46EzycAc5k1",
        "outputId": "cdb7a98e-4895-46f0-acee-caff02ad0da7"
      },
      "outputs": [
        {
          "output_type": "stream",
          "name": "stdout",
          "text": [
            "9/9 [==============================] - 0s 2ms/step - loss: 0.2558 - accuracy: 0.9419\n"
          ]
        },
        {
          "output_type": "execute_result",
          "data": {
            "text/plain": [
              "[0.2557642161846161, 0.9418604373931885]"
            ]
          },
          "metadata": {},
          "execution_count": 68
        }
      ],
      "source": [
        "model.evaluate(X_test, y_test)"
      ]
    },
    {
      "cell_type": "code",
      "execution_count": 69,
      "metadata": {
        "colab": {
          "base_uri": "https://localhost:8080/"
        },
        "id": "HbxM-S64c5k1",
        "outputId": "44e1b6ba-eb79-4aa1-ad4a-932b0c1dbae0"
      },
      "outputs": [
        {
          "output_type": "stream",
          "name": "stdout",
          "text": [
            "9/9 [==============================] - 0s 3ms/step - loss: 0.2558 - accuracy: 0.9419\n"
          ]
        },
        {
          "output_type": "execute_result",
          "data": {
            "text/plain": [
              "0.9418604373931885"
            ]
          },
          "metadata": {},
          "execution_count": 69
        }
      ],
      "source": [
        "model.evaluate(X_test, y_test)[1]"
      ]
    },
    {
      "cell_type": "code",
      "execution_count": 38,
      "metadata": {
        "colab": {
          "base_uri": "https://localhost:8080/"
        },
        "id": "Jnkj0QOXc5k2",
        "outputId": "08457534-196b-4806-f8ee-ea5115ec5545"
      },
      "outputs": [
        {
          "output_type": "stream",
          "name": "stdout",
          "text": [
            "Epoch 1/150\n",
            "60/60 [==============================] - 0s 2ms/step - loss: 0.3148 - accuracy: 0.9283\n",
            "Epoch 2/150\n",
            "60/60 [==============================] - 0s 2ms/step - loss: 0.2611 - accuracy: 0.9333\n",
            "Epoch 3/150\n",
            "60/60 [==============================] - 0s 2ms/step - loss: 0.2495 - accuracy: 0.9317\n",
            "Epoch 4/150\n",
            "60/60 [==============================] - 0s 1ms/step - loss: 0.2523 - accuracy: 0.9333\n",
            "Epoch 5/150\n",
            "60/60 [==============================] - 0s 2ms/step - loss: 0.2358 - accuracy: 0.9333\n",
            "Epoch 6/150\n",
            "60/60 [==============================] - 0s 2ms/step - loss: 0.2551 - accuracy: 0.9333\n",
            "Epoch 7/150\n",
            "60/60 [==============================] - 0s 2ms/step - loss: 0.2406 - accuracy: 0.9333\n",
            "Epoch 8/150\n",
            "60/60 [==============================] - 0s 2ms/step - loss: 0.2543 - accuracy: 0.9317\n",
            "Epoch 9/150\n",
            "60/60 [==============================] - 0s 2ms/step - loss: 0.2421 - accuracy: 0.9333\n",
            "Epoch 10/150\n",
            "60/60 [==============================] - 0s 2ms/step - loss: 0.2358 - accuracy: 0.9333\n",
            "Epoch 11/150\n",
            "60/60 [==============================] - 0s 2ms/step - loss: 0.2432 - accuracy: 0.9317\n",
            "Epoch 12/150\n",
            "60/60 [==============================] - 0s 2ms/step - loss: 0.2330 - accuracy: 0.9333\n",
            "Epoch 13/150\n",
            "60/60 [==============================] - 0s 2ms/step - loss: 0.2377 - accuracy: 0.9333\n",
            "Epoch 14/150\n",
            "60/60 [==============================] - 0s 2ms/step - loss: 0.2348 - accuracy: 0.9333\n",
            "Epoch 15/150\n",
            "60/60 [==============================] - 0s 2ms/step - loss: 0.2432 - accuracy: 0.9333\n",
            "Epoch 16/150\n",
            "60/60 [==============================] - 0s 2ms/step - loss: 0.2399 - accuracy: 0.9333\n",
            "Epoch 17/150\n",
            "60/60 [==============================] - 0s 2ms/step - loss: 0.2340 - accuracy: 0.9350\n",
            "Epoch 18/150\n",
            "60/60 [==============================] - 0s 2ms/step - loss: 0.2396 - accuracy: 0.9350\n",
            "Epoch 19/150\n",
            "60/60 [==============================] - 0s 3ms/step - loss: 0.2352 - accuracy: 0.9350\n",
            "Epoch 20/150\n",
            "60/60 [==============================] - 0s 2ms/step - loss: 0.2328 - accuracy: 0.9350\n",
            "Epoch 21/150\n",
            "60/60 [==============================] - 0s 2ms/step - loss: 0.2302 - accuracy: 0.9333\n",
            "Epoch 22/150\n",
            "60/60 [==============================] - 0s 2ms/step - loss: 0.2266 - accuracy: 0.9333\n",
            "Epoch 23/150\n",
            "60/60 [==============================] - 0s 2ms/step - loss: 0.2368 - accuracy: 0.9350\n",
            "Epoch 24/150\n",
            "60/60 [==============================] - 0s 2ms/step - loss: 0.2285 - accuracy: 0.9350\n",
            "Epoch 25/150\n",
            "60/60 [==============================] - 0s 2ms/step - loss: 0.2318 - accuracy: 0.9367\n",
            "Epoch 26/150\n",
            "60/60 [==============================] - 0s 2ms/step - loss: 0.2267 - accuracy: 0.9350\n",
            "Epoch 27/150\n",
            "60/60 [==============================] - 0s 2ms/step - loss: 0.2302 - accuracy: 0.9350\n",
            "Epoch 28/150\n",
            "60/60 [==============================] - 0s 2ms/step - loss: 0.2337 - accuracy: 0.9350\n",
            "Epoch 29/150\n",
            "60/60 [==============================] - 0s 3ms/step - loss: 0.2304 - accuracy: 0.9350\n",
            "Epoch 30/150\n",
            "60/60 [==============================] - 0s 8ms/step - loss: 0.2284 - accuracy: 0.9350\n",
            "Epoch 31/150\n",
            "60/60 [==============================] - 0s 5ms/step - loss: 0.2293 - accuracy: 0.9350\n",
            "Epoch 32/150\n",
            "60/60 [==============================] - 0s 5ms/step - loss: 0.2219 - accuracy: 0.9350\n",
            "Epoch 33/150\n",
            "60/60 [==============================] - 0s 5ms/step - loss: 0.2343 - accuracy: 0.9350\n",
            "Epoch 34/150\n",
            "60/60 [==============================] - 0s 4ms/step - loss: 0.2316 - accuracy: 0.9333\n",
            "Epoch 35/150\n",
            "60/60 [==============================] - 0s 3ms/step - loss: 0.2284 - accuracy: 0.9350\n",
            "Epoch 36/150\n",
            "60/60 [==============================] - 0s 3ms/step - loss: 0.2305 - accuracy: 0.9367\n",
            "Epoch 37/150\n",
            "60/60 [==============================] - 0s 2ms/step - loss: 0.2217 - accuracy: 0.9350\n",
            "Epoch 38/150\n",
            "60/60 [==============================] - 0s 2ms/step - loss: 0.2330 - accuracy: 0.9350\n",
            "Epoch 39/150\n",
            "60/60 [==============================] - 0s 2ms/step - loss: 0.2292 - accuracy: 0.9350\n",
            "Epoch 40/150\n",
            "60/60 [==============================] - 0s 2ms/step - loss: 0.2283 - accuracy: 0.9350\n",
            "Epoch 41/150\n",
            "60/60 [==============================] - 0s 2ms/step - loss: 0.2267 - accuracy: 0.9350\n",
            "Epoch 42/150\n",
            "60/60 [==============================] - 0s 2ms/step - loss: 0.2298 - accuracy: 0.9350\n",
            "Epoch 43/150\n",
            "60/60 [==============================] - 0s 2ms/step - loss: 0.2278 - accuracy: 0.9350\n",
            "Epoch 44/150\n",
            "60/60 [==============================] - 0s 2ms/step - loss: 0.2251 - accuracy: 0.9350\n",
            "Epoch 45/150\n",
            "60/60 [==============================] - 0s 2ms/step - loss: 0.2263 - accuracy: 0.9350\n",
            "Epoch 46/150\n",
            "60/60 [==============================] - 0s 2ms/step - loss: 0.2220 - accuracy: 0.9333\n",
            "Epoch 47/150\n",
            "60/60 [==============================] - 0s 2ms/step - loss: 0.2329 - accuracy: 0.9350\n",
            "Epoch 48/150\n",
            "60/60 [==============================] - 0s 2ms/step - loss: 0.2232 - accuracy: 0.9350\n",
            "Epoch 49/150\n",
            "60/60 [==============================] - 0s 2ms/step - loss: 0.2286 - accuracy: 0.9350\n",
            "Epoch 50/150\n",
            "60/60 [==============================] - 0s 2ms/step - loss: 0.2289 - accuracy: 0.9350\n",
            "Epoch 51/150\n",
            "60/60 [==============================] - 0s 2ms/step - loss: 0.2270 - accuracy: 0.9350\n",
            "Epoch 52/150\n",
            "60/60 [==============================] - 0s 2ms/step - loss: 0.2229 - accuracy: 0.9350\n",
            "Epoch 53/150\n",
            "60/60 [==============================] - 0s 2ms/step - loss: 0.2201 - accuracy: 0.9350\n",
            "Epoch 54/150\n",
            "60/60 [==============================] - 0s 2ms/step - loss: 0.2243 - accuracy: 0.9350\n",
            "Epoch 55/150\n",
            "60/60 [==============================] - 0s 2ms/step - loss: 0.2217 - accuracy: 0.9350\n",
            "Epoch 56/150\n",
            "60/60 [==============================] - 0s 2ms/step - loss: 0.2155 - accuracy: 0.9350\n",
            "Epoch 57/150\n",
            "60/60 [==============================] - 0s 2ms/step - loss: 0.2206 - accuracy: 0.9350\n",
            "Epoch 58/150\n",
            "60/60 [==============================] - 0s 2ms/step - loss: 0.2273 - accuracy: 0.9350\n",
            "Epoch 59/150\n",
            "60/60 [==============================] - 0s 2ms/step - loss: 0.2220 - accuracy: 0.9367\n",
            "Epoch 60/150\n",
            "60/60 [==============================] - 0s 2ms/step - loss: 0.2250 - accuracy: 0.9350\n",
            "Epoch 61/150\n",
            "60/60 [==============================] - 0s 2ms/step - loss: 0.2185 - accuracy: 0.9350\n",
            "Epoch 62/150\n",
            "60/60 [==============================] - 0s 2ms/step - loss: 0.2247 - accuracy: 0.9350\n",
            "Epoch 63/150\n",
            "60/60 [==============================] - 0s 2ms/step - loss: 0.2123 - accuracy: 0.9350\n",
            "Epoch 64/150\n",
            "60/60 [==============================] - 0s 2ms/step - loss: 0.2216 - accuracy: 0.9367\n",
            "Epoch 65/150\n",
            "60/60 [==============================] - 0s 2ms/step - loss: 0.2181 - accuracy: 0.9350\n",
            "Epoch 66/150\n",
            "60/60 [==============================] - 0s 2ms/step - loss: 0.2231 - accuracy: 0.9367\n",
            "Epoch 67/150\n",
            "60/60 [==============================] - 0s 2ms/step - loss: 0.2210 - accuracy: 0.9350\n",
            "Epoch 68/150\n",
            "60/60 [==============================] - 0s 2ms/step - loss: 0.2191 - accuracy: 0.9350\n",
            "Epoch 69/150\n",
            "60/60 [==============================] - 0s 2ms/step - loss: 0.2241 - accuracy: 0.9350\n",
            "Epoch 70/150\n",
            "60/60 [==============================] - 0s 2ms/step - loss: 0.2226 - accuracy: 0.9367\n",
            "Epoch 71/150\n",
            "60/60 [==============================] - 0s 2ms/step - loss: 0.2198 - accuracy: 0.9350\n",
            "Epoch 72/150\n",
            "60/60 [==============================] - 0s 2ms/step - loss: 0.2205 - accuracy: 0.9350\n",
            "Epoch 73/150\n",
            "60/60 [==============================] - 0s 2ms/step - loss: 0.2223 - accuracy: 0.9367\n",
            "Epoch 74/150\n",
            "60/60 [==============================] - 0s 2ms/step - loss: 0.2232 - accuracy: 0.9350\n",
            "Epoch 75/150\n",
            "60/60 [==============================] - 0s 2ms/step - loss: 0.2139 - accuracy: 0.9350\n",
            "Epoch 76/150\n",
            "60/60 [==============================] - 0s 2ms/step - loss: 0.2178 - accuracy: 0.9367\n",
            "Epoch 77/150\n",
            "60/60 [==============================] - 0s 2ms/step - loss: 0.2195 - accuracy: 0.9367\n",
            "Epoch 78/150\n",
            "60/60 [==============================] - 0s 2ms/step - loss: 0.2164 - accuracy: 0.9350\n",
            "Epoch 79/150\n",
            "60/60 [==============================] - 0s 2ms/step - loss: 0.2173 - accuracy: 0.9350\n",
            "Epoch 80/150\n",
            "60/60 [==============================] - 0s 2ms/step - loss: 0.2190 - accuracy: 0.9333\n",
            "Epoch 81/150\n",
            "60/60 [==============================] - 0s 2ms/step - loss: 0.2189 - accuracy: 0.9350\n",
            "Epoch 82/150\n",
            "60/60 [==============================] - 0s 2ms/step - loss: 0.2166 - accuracy: 0.9350\n",
            "Epoch 83/150\n",
            "60/60 [==============================] - 0s 2ms/step - loss: 0.2151 - accuracy: 0.9367\n",
            "Epoch 84/150\n",
            "60/60 [==============================] - 0s 2ms/step - loss: 0.2163 - accuracy: 0.9367\n",
            "Epoch 85/150\n",
            "60/60 [==============================] - 0s 2ms/step - loss: 0.2158 - accuracy: 0.9350\n",
            "Epoch 86/150\n",
            "60/60 [==============================] - 0s 2ms/step - loss: 0.2211 - accuracy: 0.9367\n",
            "Epoch 87/150\n",
            "60/60 [==============================] - 0s 2ms/step - loss: 0.2178 - accuracy: 0.9350\n",
            "Epoch 88/150\n",
            "60/60 [==============================] - 0s 2ms/step - loss: 0.2132 - accuracy: 0.9350\n",
            "Epoch 89/150\n",
            "60/60 [==============================] - 0s 2ms/step - loss: 0.2189 - accuracy: 0.9367\n",
            "Epoch 90/150\n",
            "60/60 [==============================] - 0s 2ms/step - loss: 0.2192 - accuracy: 0.9350\n",
            "Epoch 91/150\n",
            "60/60 [==============================] - 0s 2ms/step - loss: 0.2146 - accuracy: 0.9367\n",
            "Epoch 92/150\n",
            "60/60 [==============================] - 0s 2ms/step - loss: 0.2166 - accuracy: 0.9350\n",
            "Epoch 93/150\n",
            "60/60 [==============================] - 0s 2ms/step - loss: 0.2172 - accuracy: 0.9367\n",
            "Epoch 94/150\n",
            "60/60 [==============================] - 0s 2ms/step - loss: 0.2182 - accuracy: 0.9350\n",
            "Epoch 95/150\n",
            "60/60 [==============================] - 0s 2ms/step - loss: 0.2140 - accuracy: 0.9300\n",
            "Epoch 96/150\n",
            "60/60 [==============================] - 0s 2ms/step - loss: 0.2099 - accuracy: 0.9350\n",
            "Epoch 97/150\n",
            "60/60 [==============================] - 0s 2ms/step - loss: 0.2171 - accuracy: 0.9350\n",
            "Epoch 98/150\n",
            "60/60 [==============================] - 0s 2ms/step - loss: 0.2160 - accuracy: 0.9350\n",
            "Epoch 99/150\n",
            "60/60 [==============================] - 0s 2ms/step - loss: 0.2134 - accuracy: 0.9350\n",
            "Epoch 100/150\n",
            "60/60 [==============================] - 0s 2ms/step - loss: 0.2162 - accuracy: 0.9350\n",
            "Epoch 101/150\n",
            "60/60 [==============================] - 0s 2ms/step - loss: 0.2148 - accuracy: 0.9350\n",
            "Epoch 102/150\n",
            "60/60 [==============================] - 0s 2ms/step - loss: 0.2123 - accuracy: 0.9367\n",
            "Epoch 103/150\n",
            "60/60 [==============================] - 0s 2ms/step - loss: 0.2148 - accuracy: 0.9333\n",
            "Epoch 104/150\n",
            "60/60 [==============================] - 0s 2ms/step - loss: 0.2197 - accuracy: 0.9350\n",
            "Epoch 105/150\n",
            "60/60 [==============================] - 0s 2ms/step - loss: 0.2148 - accuracy: 0.9383\n",
            "Epoch 106/150\n",
            "60/60 [==============================] - 0s 2ms/step - loss: 0.2205 - accuracy: 0.9367\n",
            "Epoch 107/150\n",
            "60/60 [==============================] - 0s 2ms/step - loss: 0.2151 - accuracy: 0.9350\n",
            "Epoch 108/150\n",
            "60/60 [==============================] - 0s 2ms/step - loss: 0.2089 - accuracy: 0.9350\n",
            "Epoch 109/150\n",
            "60/60 [==============================] - 0s 2ms/step - loss: 0.2067 - accuracy: 0.9383\n",
            "Epoch 110/150\n",
            "60/60 [==============================] - 0s 2ms/step - loss: 0.2096 - accuracy: 0.9367\n",
            "Epoch 111/150\n",
            "60/60 [==============================] - 0s 2ms/step - loss: 0.2171 - accuracy: 0.9333\n",
            "Epoch 112/150\n",
            "60/60 [==============================] - 0s 2ms/step - loss: 0.2125 - accuracy: 0.9383\n",
            "Epoch 113/150\n",
            "60/60 [==============================] - 0s 2ms/step - loss: 0.2089 - accuracy: 0.9367\n",
            "Epoch 114/150\n",
            "60/60 [==============================] - 0s 2ms/step - loss: 0.2099 - accuracy: 0.9350\n",
            "Epoch 115/150\n",
            "60/60 [==============================] - 0s 2ms/step - loss: 0.2091 - accuracy: 0.9350\n",
            "Epoch 116/150\n",
            "60/60 [==============================] - 0s 2ms/step - loss: 0.2113 - accuracy: 0.9350\n",
            "Epoch 117/150\n",
            "60/60 [==============================] - 0s 2ms/step - loss: 0.2112 - accuracy: 0.9383\n",
            "Epoch 118/150\n",
            "60/60 [==============================] - 0s 2ms/step - loss: 0.2150 - accuracy: 0.9383\n",
            "Epoch 119/150\n",
            "60/60 [==============================] - 0s 2ms/step - loss: 0.2142 - accuracy: 0.9383\n",
            "Epoch 120/150\n",
            "60/60 [==============================] - 0s 2ms/step - loss: 0.2161 - accuracy: 0.9367\n",
            "Epoch 121/150\n",
            "60/60 [==============================] - 0s 2ms/step - loss: 0.2102 - accuracy: 0.9367\n",
            "Epoch 122/150\n",
            "60/60 [==============================] - 0s 2ms/step - loss: 0.2098 - accuracy: 0.9367\n",
            "Epoch 123/150\n",
            "60/60 [==============================] - 0s 2ms/step - loss: 0.2120 - accuracy: 0.9367\n",
            "Epoch 124/150\n",
            "60/60 [==============================] - 0s 2ms/step - loss: 0.2049 - accuracy: 0.9333\n",
            "Epoch 125/150\n",
            "60/60 [==============================] - 0s 2ms/step - loss: 0.2107 - accuracy: 0.9367\n",
            "Epoch 126/150\n",
            "60/60 [==============================] - 0s 3ms/step - loss: 0.2089 - accuracy: 0.9333\n",
            "Epoch 127/150\n",
            "60/60 [==============================] - 0s 2ms/step - loss: 0.2092 - accuracy: 0.9367\n",
            "Epoch 128/150\n",
            "60/60 [==============================] - 0s 2ms/step - loss: 0.2106 - accuracy: 0.9350\n",
            "Epoch 129/150\n",
            "60/60 [==============================] - 0s 2ms/step - loss: 0.2109 - accuracy: 0.9333\n",
            "Epoch 130/150\n",
            "60/60 [==============================] - 0s 2ms/step - loss: 0.2091 - accuracy: 0.9400\n",
            "Epoch 131/150\n",
            "60/60 [==============================] - 0s 2ms/step - loss: 0.2126 - accuracy: 0.9367\n",
            "Epoch 132/150\n",
            "60/60 [==============================] - 0s 2ms/step - loss: 0.2058 - accuracy: 0.9350\n",
            "Epoch 133/150\n",
            "60/60 [==============================] - 0s 2ms/step - loss: 0.2035 - accuracy: 0.9417\n",
            "Epoch 134/150\n",
            "60/60 [==============================] - 0s 2ms/step - loss: 0.2099 - accuracy: 0.9367\n",
            "Epoch 135/150\n",
            "60/60 [==============================] - 0s 2ms/step - loss: 0.2099 - accuracy: 0.9367\n",
            "Epoch 136/150\n",
            "60/60 [==============================] - 0s 2ms/step - loss: 0.2096 - accuracy: 0.9367\n",
            "Epoch 137/150\n",
            "60/60 [==============================] - 0s 2ms/step - loss: 0.2000 - accuracy: 0.9383\n",
            "Epoch 138/150\n",
            "60/60 [==============================] - 0s 2ms/step - loss: 0.2100 - accuracy: 0.9317\n",
            "Epoch 139/150\n",
            "60/60 [==============================] - 0s 3ms/step - loss: 0.2090 - accuracy: 0.9367\n",
            "Epoch 140/150\n",
            "60/60 [==============================] - 0s 3ms/step - loss: 0.2084 - accuracy: 0.9383\n",
            "Epoch 141/150\n",
            "60/60 [==============================] - 0s 3ms/step - loss: 0.2108 - accuracy: 0.9367\n",
            "Epoch 142/150\n",
            "60/60 [==============================] - 0s 2ms/step - loss: 0.2090 - accuracy: 0.9383\n",
            "Epoch 143/150\n",
            "60/60 [==============================] - 0s 2ms/step - loss: 0.2062 - accuracy: 0.9400\n",
            "Epoch 144/150\n",
            "60/60 [==============================] - 0s 2ms/step - loss: 0.2022 - accuracy: 0.9383\n",
            "Epoch 145/150\n",
            "60/60 [==============================] - 0s 2ms/step - loss: 0.2094 - accuracy: 0.9383\n",
            "Epoch 146/150\n",
            "60/60 [==============================] - 0s 2ms/step - loss: 0.2037 - accuracy: 0.9383\n",
            "Epoch 147/150\n",
            "60/60 [==============================] - 0s 2ms/step - loss: 0.2076 - accuracy: 0.9350\n",
            "Epoch 148/150\n",
            "60/60 [==============================] - 0s 2ms/step - loss: 0.2070 - accuracy: 0.9367\n",
            "Epoch 149/150\n",
            "60/60 [==============================] - 0s 2ms/step - loss: 0.2096 - accuracy: 0.9367\n",
            "Epoch 150/150\n",
            "60/60 [==============================] - 0s 2ms/step - loss: 0.2073 - accuracy: 0.9383\n"
          ]
        },
        {
          "output_type": "execute_result",
          "data": {
            "text/plain": [
              "<keras.callbacks.History at 0x7f2c32133370>"
            ]
          },
          "metadata": {},
          "execution_count": 38
        }
      ],
      "source": [
        "model.fit(X_train, y_train, epochs=150, batch_size=10)"
      ]
    },
    {
      "cell_type": "code",
      "execution_count": 43,
      "metadata": {
        "colab": {
          "base_uri": "https://localhost:8080/"
        },
        "id": "4OrnlH4Vc5k3",
        "outputId": "fbee4daf-c010-41a3-e3a2-88c7c0928faf"
      },
      "outputs": [
        {
          "output_type": "stream",
          "name": "stderr",
          "text": [
            "/usr/local/lib/python3.10/dist-packages/keras/optimizers/legacy/adagrad.py:84: UserWarning: The `lr` argument is deprecated, use `learning_rate` instead.\n",
            "  super().__init__(name, **kwargs)\n",
            "/usr/local/lib/python3.10/dist-packages/keras/optimizers/legacy/adadelta.py:82: UserWarning: The `lr` argument is deprecated, use `learning_rate` instead.\n",
            "  super().__init__(name, **kwargs)\n",
            "/usr/local/lib/python3.10/dist-packages/keras/optimizers/legacy/rmsprop.py:143: UserWarning: The `lr` argument is deprecated, use `learning_rate` instead.\n",
            "  super().__init__(name, **kwargs)\n",
            "/usr/local/lib/python3.10/dist-packages/keras/optimizers/legacy/adam.py:117: UserWarning: The `lr` argument is deprecated, use `learning_rate` instead.\n",
            "  super().__init__(name, **kwargs)\n"
          ]
        },
        {
          "output_type": "execute_result",
          "data": {
            "text/plain": [
              "<keras.optimizers.legacy.adam.Adam at 0x7f2c34b9f4f0>"
            ]
          },
          "metadata": {},
          "execution_count": 43
        }
      ],
      "source": [
        "keras.optimizers.Adagrad(lr=0.01, epsilon=1e-08, decay=0.0)\n",
        "keras.optimizers.Adadelta(lr=1.0, rho=0.95, epsilon=1e-08, decay=0.0)\n",
        "keras.optimizers.RMSprop(lr=0.001, rho=0.9, epsilon=1e-08, decay=0.0)\n",
        "keras.optimizers.Adam(lr=0.001, beta_1=0.9, beta_2=0.999, epsilon=1e-08, decay=0.0)"
      ]
    },
    {
      "cell_type": "code",
      "execution_count": 44,
      "metadata": {
        "id": "acsvw1RQc5k3"
      },
      "outputs": [],
      "source": [
        "from keras.models import Sequential\n",
        "from keras.layers import Dense, Dropout, Activation\n",
        "from keras.layers import Embedding\n",
        "from keras.layers import Conv1D, GlobalMaxPooling1D\n",
        "from keras.preprocessing.text import Tokenizer\n",
        "from keras.preprocessing import sequence\n",
        "from sklearn.preprocessing import LabelEncoder\n",
        "import time\n",
        "from keras import metrics"
      ]
    },
    {
      "cell_type": "code",
      "execution_count": 45,
      "metadata": {
        "colab": {
          "base_uri": "https://localhost:8080/"
        },
        "id": "J20OKT0oc5k3",
        "outputId": "ce3aba7f-2189-4716-b6f2-67a23613fcd9"
      },
      "outputs": [
        {
          "output_type": "stream",
          "name": "stdout",
          "text": [
            "     Age  Number of sexual partners  First sexual intercourse  \\\n",
            "0     18                          4                        15   \n",
            "1     15                          1                        14   \n",
            "2     34                          1                         0   \n",
            "3     52                          5                        16   \n",
            "4     46                          3                        21   \n",
            "..   ...                        ...                       ...   \n",
            "853   34                          3                        18   \n",
            "854   32                          2                        19   \n",
            "855   25                          2                        17   \n",
            "856   33                          2                        24   \n",
            "857   29                          2                        20   \n",
            "\n",
            "     Num of pregnancies  Smokes  Smokes (years)  Smokes (packs/year)  \\\n",
            "0                     1       0             0.0                  0.0   \n",
            "1                     1       0             0.0                  0.0   \n",
            "2                     1       0             0.0                  0.0   \n",
            "3                     4       1            37.0                 37.0   \n",
            "4                     4       0             0.0                  0.0   \n",
            "..                  ...     ...             ...                  ...   \n",
            "853                   0       0             0.0                  0.0   \n",
            "854                   1       0             0.0                  0.0   \n",
            "855                   0       0             0.0                  0.0   \n",
            "856                   2       0             0.0                  0.0   \n",
            "857                   1       0             0.0                  0.0   \n",
            "\n",
            "     Hormonal Contraceptives  Hormonal Contraceptives (years)  IUD  ...  \\\n",
            "0                          0                             0.00    0  ...   \n",
            "1                          0                             0.00    0  ...   \n",
            "2                          0                             0.00    0  ...   \n",
            "3                          1                             3.00    0  ...   \n",
            "4                          1                            15.00    0  ...   \n",
            "..                       ...                              ...  ...  ...   \n",
            "853                        0                             0.00    0  ...   \n",
            "854                        1                             8.00    0  ...   \n",
            "855                        1                             0.08    0  ...   \n",
            "856                        1                             0.08    0  ...   \n",
            "857                        1                             0.50    0  ...   \n",
            "\n",
            "     STDs: Number of diagnosis  STDs: Time since first diagnosis  \\\n",
            "0                            0                                 0   \n",
            "1                            0                                 0   \n",
            "2                            0                                 0   \n",
            "3                            0                                 0   \n",
            "4                            0                                 0   \n",
            "..                         ...                               ...   \n",
            "853                          0                                 0   \n",
            "854                          0                                 0   \n",
            "855                          0                                 0   \n",
            "856                          0                                 0   \n",
            "857                          0                                 0   \n",
            "\n",
            "     STDs: Time since last diagnosis  Dx:Cancer  Dx:CIN  Dx:HPV  Dx  \\\n",
            "0                                  0          0       0       0   0   \n",
            "1                                  0          0       0       0   0   \n",
            "2                                  0          0       0       0   0   \n",
            "3                                  0          1       0       1   0   \n",
            "4                                  0          0       0       0   0   \n",
            "..                               ...        ...     ...     ...  ..   \n",
            "853                                0          0       0       0   0   \n",
            "854                                0          0       0       0   0   \n",
            "855                                0          0       0       0   0   \n",
            "856                                0          0       0       0   0   \n",
            "857                                0          0       0       0   0   \n",
            "\n",
            "     Hinselmann  Schiller  Citology  \n",
            "0             0         0         0  \n",
            "1             0         0         0  \n",
            "2             0         0         0  \n",
            "3             0         0         0  \n",
            "4             0         0         0  \n",
            "..          ...       ...       ...  \n",
            "853           0         0         0  \n",
            "854           0         0         0  \n",
            "855           0         0         1  \n",
            "856           0         0         0  \n",
            "857           0         0         0  \n",
            "\n",
            "[858 rows x 35 columns] [0 0 0 0 0 0 1 0 0 0 0 0 0 0 0 0 0 0 0 0 0 0 1 1 0 0 0 0 0 0 0 0 0 0 0 0 0\n",
            " 0 0 0 0 1 0 0 1 0 0 0 0 0 0 0 0 0 0 0 0 0 0 0 0 0 0 0 1 0 0 0 0 0 0 0 0 0\n",
            " 0 0 0 0 0 0 0 0 0 0 0 0 0 0 0 0 0 0 0 1 0 0 1 0 0 0 0 0 0 1 0 0 0 0 0 0 0\n",
            " 0 0 0 0 0 0 0 0 0 0 0 0 0 0 0 0 0 0 0 0 1 0 0 0 0 0 0 0 0 0 0 0 0 0 0 0 0\n",
            " 0 0 0 0 0 0 0 0 0 0 0 0 0 0 0 1 0 0 0 0 0 0 0 0 0 0 0 0 0 0 0 0 0 0 0 0 0\n",
            " 1 0 0 0 0 0 0 0 0 0 0 0 0 0 0 0 0 0 1 0 1 0 0 0 0 0 0 0 0 1 0 1 0 0 0 0 0\n",
            " 0 0 1 0 0 0 0 0 0 0 0 0 0 0 0 0 0 0 0 0 0 0 0 0 0 0 0 0 0 0 0 0 0 0 0 1 0\n",
            " 0 0 0 0 0 1 0 0 0 0 0 0 0 0 0 0 0 0 0 0 0 0 0 0 0 0 0 0 0 0 0 0 0 0 0 0 0\n",
            " 0 0 0 0 0 0 0 0 0 0 0 0 0 0 0 0 0 0 1 0 0 0 0 0 1 0 0 0 0 1 0 0 0 0 0 0 0\n",
            " 0 0 1 0 0 0 0 0 0 0 0 0 1 0 0 0 0 0 0 0 0 0 0 0 0 0 0 0 0 0 0 0 0 0 0 0 0\n",
            " 1 0 0 0 0 0 0 1 0 0 0 0 0 1 0 0 0 0 0 0 0 0 0 0 0 0 0 0 0 0 0 0 0 0 0 0 0\n",
            " 0 0 0 0 0 0 0 0 0 0 0 0 0 0 1 0 0 0 0 0 0 0 0 0 0 0 0 1 0 0 0 0 0 0 0 0 0\n",
            " 0 0 0 0 0 0 0 0 0 0 0 0 0 0 0 0 0 0 0 0 0 0 0 0 0 0 0 0 1 0 0 0 0 0 0 0 0\n",
            " 0 0 0 0 0 0 0 0 0 0 0 0 0 0 0 1 0 0 0 0 0 0 0 0 0 0 0 0 0 0 0 0 0 0 0 0 0\n",
            " 0 0 0 0 0 0 0 0 0 0 0 0 1 0 0 0 0 0 0 0 0 1 0 0 0 0 0 0 0 0 0 1 0 0 0 0 0\n",
            " 0 0 0 0 0 0 0 0 0 0 0 0 0 0 0 0 0 0 0 0 0 0 0 1 0 0 0 0 0 0 0 0 0 0 0 0 0\n",
            " 0 0 0 0 0 0 1 0 0 0 0 0 0 0 0 0 0 0 1 0 0 0 1 0 0 0 0 0 0 0 0 0 0 0 0 0 0\n",
            " 0 0 0 0 0 0 0 0 0 0 0 0 0 0 0 0 0 0 0 0 0 0 0 0 1 0 1 0 0 0 0 0 0 0 0 1 0\n",
            " 0 0 0 0 1 1 0 1 0 0 0 0 0 0 0 0 0 0 0 0 1 1 1 0 0 0 0 1 0 0 0 0 0 0 0 0 0\n",
            " 0 0 0 0 0 0 0 0 0 0 0 0 0 0 0 0 0 0 0 0 0 0 0 0 0 0 0 0 0 0 0 0 0 0 0 0 1\n",
            " 0 0 0 0 0 0 0 0 0 0 0 0 0 1 1 0 0 0 0 0 0 0 0 0 0 0 0 0 0 0 0 0 0 0 0 0 0\n",
            " 0 0 0 0 1 0 0 0 0 1 0 0 0 0 0 0 0 0 0 0 1 0 0 0 0 0 0 0 0 0 0 0 0 0 0 0 0\n",
            " 1 0 0 0 0 0 0 0 0 0 0 0 0 0 0 0 0 0 0 0 0 0 0 0 0 0 0 0 0 0 0 0 0 0 0 0 0\n",
            " 0 0 0 0 0 0 0]\n"
          ]
        }
      ],
      "source": [
        "X = df.drop([\"Biopsy\"], axis=1)\n",
        "y = df[\"Biopsy\"]\n",
        "y = y.values\n",
        "print(X,y)"
      ]
    },
    {
      "cell_type": "code",
      "execution_count": 46,
      "metadata": {
        "id": "z9b2vOFXc5k3"
      },
      "outputs": [],
      "source": [
        "from keras import regularizers"
      ]
    },
    {
      "cell_type": "code",
      "execution_count": 47,
      "metadata": {
        "id": "lF3rvTlmc5k3"
      },
      "outputs": [],
      "source": [
        "## input layer\n",
        "input_layer = Input(shape=(X.shape[1],))\n",
        "\n",
        "## encoding part\n",
        "encoded = Dense(100, activation='tanh', activity_regularizer=regularizers.l1(10e-5))(input_layer)\n",
        "encoded = Dense(50, activation='relu')(encoded)\n",
        "\n",
        "## decoding part\n",
        "decoded = Dense(50, activation='tanh')(encoded)\n",
        "decoded = Dense(100, activation='tanh')(decoded)\n",
        "\n",
        "## output layer\n",
        "output_layer = Dense(X.shape[1], activation='relu')(decoded)\n",
        "\n"
      ]
    },
    {
      "cell_type": "code",
      "execution_count": 48,
      "metadata": {
        "id": "Fbni8Q33c5k3"
      },
      "outputs": [],
      "source": [
        "autoencoder = Model(input_layer, output_layer)\n",
        "autoencoder.compile(optimizer=\"adadelta\", loss=\"mse\")"
      ]
    },
    {
      "cell_type": "code",
      "execution_count": 49,
      "metadata": {
        "id": "Jv5yX1lDc5k4"
      },
      "outputs": [],
      "source": [
        "from sklearn import preprocessing\n",
        "x_scale = preprocessing.MinMaxScaler().fit_transform(X.values)\n",
        "x_can, x_ncan = x_scale[y == 0], x_scale[y == 1]"
      ]
    },
    {
      "cell_type": "code",
      "execution_count": 50,
      "metadata": {
        "colab": {
          "base_uri": "https://localhost:8080/"
        },
        "id": "YL9lmVhOc5k4",
        "outputId": "24240833-4fa0-41b5-92a0-1733fa071d70"
      },
      "outputs": [
        {
          "output_type": "stream",
          "name": "stdout",
          "text": [
            "Epoch 1/10\n",
            "3/3 [==============================] - 1s 94ms/step - loss: 0.0491 - val_loss: 0.0468\n",
            "Epoch 2/10\n",
            "3/3 [==============================] - 0s 19ms/step - loss: 0.0491 - val_loss: 0.0468\n",
            "Epoch 3/10\n",
            "3/3 [==============================] - 0s 22ms/step - loss: 0.0491 - val_loss: 0.0468\n",
            "Epoch 4/10\n",
            "3/3 [==============================] - 0s 18ms/step - loss: 0.0491 - val_loss: 0.0468\n",
            "Epoch 5/10\n",
            "3/3 [==============================] - 0s 19ms/step - loss: 0.0491 - val_loss: 0.0468\n",
            "Epoch 6/10\n",
            "3/3 [==============================] - 0s 19ms/step - loss: 0.0491 - val_loss: 0.0468\n",
            "Epoch 7/10\n",
            "3/3 [==============================] - 0s 18ms/step - loss: 0.0491 - val_loss: 0.0468\n",
            "Epoch 8/10\n",
            "3/3 [==============================] - 0s 27ms/step - loss: 0.0491 - val_loss: 0.0468\n",
            "Epoch 9/10\n",
            "3/3 [==============================] - 0s 17ms/step - loss: 0.0491 - val_loss: 0.0468\n",
            "Epoch 10/10\n",
            "3/3 [==============================] - 0s 18ms/step - loss: 0.0491 - val_loss: 0.0467\n"
          ]
        }
      ],
      "source": [
        "autoencoder.fit(x_can[0:2000], x_can[0:2000],\n",
        "                batch_size = 256, epochs = 10,\n",
        "                shuffle = True, validation_split = 0.20);"
      ]
    },
    {
      "cell_type": "code",
      "execution_count": 51,
      "metadata": {
        "id": "YDA2i855c5k4"
      },
      "outputs": [],
      "source": [
        "hidden_representation = Sequential()\n",
        "hidden_representation.add(autoencoder.layers[0])\n",
        "hidden_representation.add(autoencoder.layers[1])\n",
        "hidden_representation.add(autoencoder.layers[2])"
      ]
    },
    {
      "cell_type": "code",
      "execution_count": 52,
      "metadata": {
        "colab": {
          "base_uri": "https://localhost:8080/"
        },
        "id": "IlrVPi9Ec5k4",
        "outputId": "19a869e3-1d5f-4d21-ccc7-14edaa3fb787"
      },
      "outputs": [
        {
          "output_type": "stream",
          "name": "stdout",
          "text": [
            "26/26 [==============================] - 0s 2ms/step\n",
            "2/2 [==============================] - 0s 7ms/step\n"
          ]
        }
      ],
      "source": [
        "can_hid_rep = hidden_representation.predict(x_can[:3000])\n",
        "ncan_hid_rep = hidden_representation.predict(x_ncan)"
      ]
    },
    {
      "cell_type": "code",
      "execution_count": 53,
      "metadata": {
        "id": "RcH9HX6Oc5k5"
      },
      "outputs": [],
      "source": [
        "import numpy as np\n",
        "from sklearn.manifold import TSNE\n"
      ]
    },
    {
      "cell_type": "code",
      "execution_count": 54,
      "metadata": {
        "id": "D4tkEqkac5k5"
      },
      "outputs": [],
      "source": [
        "rep_x = np.append(can_hid_rep, ncan_hid_rep, axis = 0)\n",
        "y_n = np.zeros(can_hid_rep.shape[0])\n",
        "y_f = np.ones(ncan_hid_rep.shape[0])\n",
        "rep_y = np.append(y_n, y_f)\n",
        "#tsne_plot(rep_x, rep_y, \"latent_representation.png\")\n"
      ]
    },
    {
      "cell_type": "code",
      "execution_count": 55,
      "metadata": {
        "colab": {
          "base_uri": "https://localhost:8080/"
        },
        "id": "_X8ksvb1c5k5",
        "outputId": "1af333ce-ccae-419a-8946-4a464a92d18d"
      },
      "outputs": [
        {
          "output_type": "stream",
          "name": "stdout",
          "text": [
            "\n",
            "Classification Report: \n",
            "              precision    recall  f1-score   support\n",
            "\n",
            "         0.0       0.99      0.99      0.99       207\n",
            "         1.0       0.62      0.62      0.62         8\n",
            "\n",
            "    accuracy                           0.97       215\n",
            "   macro avg       0.81      0.81      0.81       215\n",
            "weighted avg       0.97      0.97      0.97       215\n",
            "\n",
            "\n",
            "Accuracy Score:  0.9720930232558139\n"
          ]
        }
      ],
      "source": [
        "from sklearn.linear_model import LogisticRegression\n",
        "from sklearn.metrics import classification_report\n",
        "from sklearn.metrics import accuracy_score\n",
        "train_x, val_x, train_y, val_y = train_test_split(rep_x, rep_y, test_size=0.25)\n",
        "clf = LogisticRegression(solver=\"lbfgs\").fit(train_x, train_y)\n",
        "pred_y = clf.predict(val_x)\n",
        "\n",
        "print (\"\")\n",
        "print (\"Classification Report: \")\n",
        "print (classification_report(val_y, pred_y))\n",
        "\n",
        "print (\"\")\n",
        "print (\"Accuracy Score: \", accuracy_score(val_y, pred_y))"
      ]
    },
    {
      "cell_type": "code",
      "execution_count": 56,
      "metadata": {
        "id": "FOoQPFYoc5k5"
      },
      "outputs": [],
      "source": [
        "from sklearn.metrics import roc_curve\n",
        "fpr,tpr,threshold =roc_curve(val_y,pred_y)"
      ]
    },
    {
      "cell_type": "code",
      "execution_count": 57,
      "metadata": {
        "id": "LIxKWJQbc5k6"
      },
      "outputs": [],
      "source": [
        "from sklearn.metrics import auc\n",
        "auc_keras=auc(fpr,tpr)"
      ]
    },
    {
      "cell_type": "code",
      "execution_count": 58,
      "metadata": {
        "colab": {
          "base_uri": "https://localhost:8080/"
        },
        "id": "Q_bQEdzPc5k6",
        "outputId": "f5edbe27-b434-43e8-ae3f-ff2b7175d72e"
      },
      "outputs": [
        {
          "output_type": "stream",
          "name": "stdout",
          "text": [
            "\n"
          ]
        }
      ],
      "source": [
        "from sklearn.ensemble import RandomForestClassifier\n",
        "\n",
        "# Supervised transformation based on random forests\n",
        "rf = RandomForestClassifier(max_depth=3, n_estimators=10)\n",
        "rf.fit(X_train, y_train)\n",
        "\n",
        "y_pred_rf = rf.predict_proba(X_test)[:, 1]\n",
        "print (\"\")\n",
        "#print (\"Classification Report: \")\n",
        "#print (classification_report(val_y, y_pred_rf))\n",
        "\n",
        "#print (\"\")\n",
        "#print (\"Accuracy Score: \", accuracy_score(y_train, y_pred_rf))\n",
        "\n",
        "fpr_rf, tpr_rf, thresholds_rf = roc_curve(y_test, y_pred_rf)\n",
        "auc_rf = auc(fpr_rf, tpr_rf)\n",
        "# Supervised transformation based on random forests\n",
        "rf = RandomForestClassifier(max_depth=3, n_estimators=10)\n",
        "rf.fit(X_train, y_train)\n",
        "\n",
        "y_pred_rf = rf.predict_proba(X_test)[:, 1]\n",
        "fpr_rf, tpr_rf, thresholds_rf = roc_curve(y_test, y_pred_rf)\n",
        "auc_rf = auc(fpr_rf, tpr_rf)\n",
        "\n"
      ]
    },
    {
      "cell_type": "code",
      "execution_count": 59,
      "metadata": {
        "colab": {
          "base_uri": "https://localhost:8080/",
          "height": 489
        },
        "id": "Yme7EHAXc5k6",
        "outputId": "466c7c48-d1b7-41e9-a2d6-dde8c809011d"
      },
      "outputs": [
        {
          "output_type": "execute_result",
          "data": {
            "text/plain": [
              "Text(0.5, 0, 'False Positive Rate')"
            ]
          },
          "metadata": {},
          "execution_count": 59
        },
        {
          "output_type": "display_data",
          "data": {
            "text/plain": [
              "<Figure size 640x480 with 1 Axes>"
            ],
            "image/png": "[encoded data removed]"
          },
          "metadata": {}
        }
      ],
      "source": [
        "import matplotlib.pyplot as plt\n",
        "plt.title('Receiver Operating Characteristic')\n",
        "plt.plot(fpr, tpr, 'b', label='AUC = %0.2f'% auc_keras)\n",
        "plt.legend(loc='lower right')\n",
        "plt.plot([0,1],[0,1],'r--')\n",
        "plt.xlim([-0.1,1.2])\n",
        "plt.ylim([-0.1,1.2])\n",
        "plt.ylabel('True Positive Rate')\n",
        "plt.xlabel('False Positive Rate')\n"
      ]
    }
  ],
  "metadata": {
    "kernelspec": {
      "display_name": "Python 3",
      "language": "python",
      "name": "python3"
    },
    "language_info": {
      "codemirror_mode": {
        "name": "ipython",
        "version": 3
      },
      "file_extension": ".py",
      "mimetype": "text/x-python",
      "name": "python",
      "nbconvert_exporter": "python",
      "pygments_lexer": "ipython3",
      "version": "3.7.3"
    },
    "colab": {
      "provenance": [],
      "include_colab_link": true
    }
  },
  "nbformat": 4,
  "nbformat_minor": 0
}